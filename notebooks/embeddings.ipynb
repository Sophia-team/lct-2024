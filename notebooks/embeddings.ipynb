{
 "cells": [
  {
   "cell_type": "code",
   "execution_count": null,
   "metadata": {},
   "outputs": [],
   "source": [
    "import os\n",
    "os.environ[\"OMP_NUM_THREADS\"] = \"2\"\n",
    "\n",
    "import pandas as pd\n",
    "import numpy as np\n",
    "import torch\n",
    "from functools import partial\n",
    "import pytorch_lightning as pl\n",
    "import warnings\n",
    "import pickle\n",
    "warnings.filterwarnings(\"ignore\")\n",
    "\n",
    "\n",
    "from ptls.nn import TrxEncoder, RnnSeqEncoder\n",
    "from ptls.frames.coles import CoLESModule\n",
    "from ptls.preprocessing import PandasDataPreprocessor\n",
    "\n",
    "from tqdm import tqdm"
   ]
  },
  {
   "cell_type": "code",
   "execution_count": null,
   "metadata": {},
   "outputs": [],
   "source": [
    "from lct_2024.utils import prepare_train_dl, get_train_dataset, get_val_dataset, get_test_dataset"
   ]
  },
  {
   "cell_type": "code",
   "execution_count": null,
   "metadata": {},
   "outputs": [],
   "source": [
    "# Нужно чтобы вытащить номера месяцев для разбиения на фолды по дате\n",
    "target_train = pd.read_parquet(\"../data/train_target.parquet\")\n",
    "target_test = pd.read_parquet(\"../data/test_target_b.parquet\")"
   ]
  },
  {
   "cell_type": "markdown",
   "metadata": {},
   "source": [
    "# Транзакции"
   ]
  },
  {
   "cell_type": "markdown",
   "metadata": {},
   "source": [
    "# Данные"
   ]
  },
  {
   "cell_type": "code",
   "execution_count": null,
   "metadata": {},
   "outputs": [],
   "source": [
    "transactions_train = pd.read_parquet(\"../data/trx_train.parquet\")\n",
    "transactions_test = pd.read_parquet(\"../data/trx_test.parquet\")"
   ]
  },
  {
   "cell_type": "code",
   "execution_count": null,
   "metadata": {},
   "outputs": [],
   "source": [
    "preprocessor = PandasDataPreprocessor(\n",
    "    col_id=\"client_id\",\n",
    "    col_event_time=\"event_time\",\n",
    "    event_time_transformation=\"dt_to_timestamp\",\n",
    "    cols_category=[\"event_type\",\n",
    "                   \"event_subtype\",\n",
    "                   \"currency\",\n",
    "                   \"src_type11\",\n",
    "                   \"src_type12\",\n",
    "                   \"dst_type11\",\n",
    "                   \"dst_type12\",\n",
    "                   \"src_type21\",\n",
    "                   \"src_type22\",\n",
    "                   \"src_type31\",\n",
    "                   \"src_type32\"],\n",
    "    cols_identity=\"amount\",\n",
    "    return_records=False,\n",
    ")\n",
    "with open('../data/transformers/transactions_preprocessor.pkl', 'wb') as f:\n",
    "    pickle.dump(preprocessor, f)"
   ]
  },
  {
   "cell_type": "code",
   "execution_count": null,
   "metadata": {},
   "outputs": [],
   "source": [
    "processed_train = preprocessor.transform(transactions_train)\n",
    "processed_train.to_pickle('../data/trans_processed_train.pkl')"
   ]
  },
  {
   "cell_type": "code",
   "execution_count": null,
   "metadata": {},
   "outputs": [],
   "source": [
    "processed_test = preprocessor.transform(transactions_test)\n",
    "processed_test.to_pickle('../data/trans_processed_test.pkl')"
   ]
  },
  {
   "cell_type": "code",
   "execution_count": null,
   "metadata": {},
   "outputs": [],
   "source": [
    "train_dl = prepare_train_dl(processed_train, processed_test, min_seq_len=128, batch_size=128)"
   ]
  },
  {
   "cell_type": "markdown",
   "metadata": {},
   "source": [
    "## Модель"
   ]
  },
  {
   "cell_type": "code",
   "execution_count": null,
   "metadata": {},
   "outputs": [],
   "source": [
    "trx_encoder_params = dict(\n",
    "    embeddings_noise=0.003,\n",
    "    numeric_values={\"amount\": \"log\"},\n",
    "    embeddings={\n",
    "        \"event_type\": {\"in\": preprocessor.get_category_dictionary_sizes()[\"event_type\"], \"out\": 8,},\n",
    "        \"event_subtype\": {\"in\": preprocessor.get_category_dictionary_sizes()[\"event_subtype\"], \"out\": 8,},\n",
    "        \"src_type11\": { \"in\": preprocessor.get_category_dictionary_sizes()[\"src_type11\"], \"out\": 16,},\n",
    "        \"src_type12\": {\"in\": preprocessor.get_category_dictionary_sizes()[\"src_type12\"], \"out\": 16,},\n",
    "        \"dst_type11\": {\"in\": preprocessor.get_category_dictionary_sizes()[\"dst_type11\"], \"out\": 16,},\n",
    "        \"dst_type12\": {\"in\": preprocessor.get_category_dictionary_sizes()[\"dst_type12\"], \"out\": 16,},\n",
    "        \"src_type22\": {\"in\": preprocessor.get_category_dictionary_sizes()[\"src_type22\"], \"out\": 16},\n",
    "        \"src_type31\": {\"in\": preprocessor.get_category_dictionary_sizes()[\"src_type31\"], \"out\": 16,},\n",
    "        \"src_type32\": {\"in\": preprocessor.get_category_dictionary_sizes()[\"src_type32\"], \"out\": 16,},\n",
    "    },\n",
    ")\n",
    "\n",
    "seq_encoder = RnnSeqEncoder(\n",
    "    trx_encoder=TrxEncoder(**trx_encoder_params),\n",
    "    hidden_size=64,\n",
    "    type=\"gru\",\n",
    ")\n",
    "model = CoLESModule(\n",
    "    seq_encoder=seq_encoder,\n",
    "    optimizer_partial=partial(torch.optim.Adam, lr=0.001),\n",
    "    lr_scheduler_partial=partial(\n",
    "        torch.optim.lr_scheduler.StepLR, step_size=3, gamma=0.9025\n",
    "    ),\n",
    ")\n",
    "trainer = pl.Trainer(\n",
    "    max_epochs=30,\n",
    "    limit_val_batches=5000,\n",
    "    enable_progress_bar=True,\n",
    "    gradient_clip_val=0.5,\n",
    "    logger=pl.loggers.TensorBoardLogger(save_dir=\"./logdir\", name=\"transaction_result\"),\n",
    "    callbacks=[\n",
    "        pl.callbacks.LearningRateMonitor(logging_interval=\"step\"),\n",
    "        pl.callbacks.ModelCheckpoint(every_n_train_steps=5000, save_top_k=-1),\n",
    "        pl.callbacks.EarlyStopping(monitor=\"valid/recall_top_k\", mode=\"max\", patience=5),\n",
    "        pl.callbacks.EarlyStopping(monitor=\"loss\", mode=\"min\", patience=3),\n",
    "    ],\n",
    ")"
   ]
  },
  {
   "cell_type": "code",
   "execution_count": null,
   "metadata": {},
   "outputs": [],
   "source": [
    "trainer.fit(model, train_dl)"
   ]
  },
  {
   "attachments": {
    "image.png": {
     "image/png": "[encoded data removed]"
    }
   },
   "cell_type": "markdown",
   "metadata": {},
   "source": [
    "![image.png](attachment:image.png)"
   ]
  },
  {
   "cell_type": "code",
   "execution_count": null,
   "metadata": {},
   "outputs": [],
   "source": [
    "torch.save(model.state_dict(), \"../data/models/transactions_emb64_model.pt\")"
   ]
  },
  {
   "cell_type": "markdown",
   "metadata": {},
   "source": [
    "## Эмбеддинги"
   ]
  },
  {
   "cell_type": "code",
   "execution_count": null,
   "metadata": {},
   "outputs": [],
   "source": [
    "device  = torch.device(\"cuda\")\n",
    "model = model.to(device)\n",
    "\n",
    "train_emb_df = get_train_dataset(processed_train, model, sorted(target_train.mon.sort_values().unique()), device)\n",
    "val_emb_df = get_val_dataset(processed_test, model, sorted(target_test.mon.sort_values().unique()), device)\n",
    "test_emb_df = get_test_dataset(processed_test, model, device)"
   ]
  },
  {
   "cell_type": "code",
   "execution_count": null,
   "metadata": {},
   "outputs": [],
   "source": [
    "train_emb_df.to_csv('../data/train_trans_emb_v8.csv', index=False)\n",
    "val_emb_df.to_csv('../data/val_trans_emb_v8.csv', index=False)\n",
    "test_emb_df.to_csv('../data/test_trans_emb_v8.csv', index=False)"
   ]
  },
  {
   "cell_type": "markdown",
   "metadata": {},
   "source": [
    "# Гео"
   ]
  },
  {
   "cell_type": "markdown",
   "metadata": {},
   "source": [
    "## Данные"
   ]
  },
  {
   "cell_type": "code",
   "execution_count": null,
   "metadata": {},
   "outputs": [],
   "source": [
    "geo_train = pd.read_parquet(\"../data/geo_train.parquet\")\n",
    "geo_test = pd.read_parquet(\"../data/geo_test.parquet\")"
   ]
  },
  {
   "cell_type": "code",
   "execution_count": null,
   "metadata": {},
   "outputs": [],
   "source": [
    "preprocessor = PandasDataPreprocessor(\n",
    "    col_id=\"client_id\",\n",
    "    col_event_time=\"event_time\",\n",
    "    event_time_transformation=\"dt_to_timestamp\",\n",
    "    cols_category=[\"geohash_4\", \"geohash_5\", \"geohash_6\",],\n",
    "    return_records=False,\n",
    ")\n",
    "preprocessor = preprocessor.fit(geo_train)\n",
    "with open('../data/transformers/geo_preprocessor.pkl', 'wb') as f:\n",
    "    pickle.dump(preprocessor, f)"
   ]
  },
  {
   "cell_type": "code",
   "execution_count": null,
   "metadata": {},
   "outputs": [],
   "source": [
    "processed_train = preprocessor.transform(geo_train)\n",
    "processed_train.to_pickle('../data/geo_processed_train.pkl')"
   ]
  },
  {
   "cell_type": "code",
   "execution_count": null,
   "metadata": {},
   "outputs": [],
   "source": [
    "processed_test = preprocessor.transform(geo_test)\n",
    "processed_test.to_pickle('../data/geo_processed_test.pkl')"
   ]
  },
  {
   "cell_type": "code",
   "execution_count": null,
   "metadata": {},
   "outputs": [],
   "source": [
    "train_dl = prepare_train_dl(processed_train, processed_test, min_seq_len=64, batch_size=256)"
   ]
  },
  {
   "cell_type": "markdown",
   "metadata": {},
   "source": [
    "## Модель"
   ]
  },
  {
   "cell_type": "code",
   "execution_count": null,
   "metadata": {},
   "outputs": [],
   "source": [
    "trx_encoder_params = dict(\n",
    "    embeddings_noise=0.003,\n",
    "    embeddings={\n",
    "        'geohash_4': {'in': preprocessor.get_category_dictionary_sizes()[\"geohash_4\"], 'out': 24},\n",
    "        'geohash_5': {'in': preprocessor.get_category_dictionary_sizes()[\"geohash_5\"], 'out': 24},\n",
    "        'geohash_6': {'in': preprocessor.get_category_dictionary_sizes()[\"geohash_6\"], 'out': 24},\n",
    "    }\n",
    ")"
   ]
  },
  {
   "cell_type": "code",
   "execution_count": null,
   "metadata": {},
   "outputs": [],
   "source": [
    "seq_encoder = RnnSeqEncoder(\n",
    "    trx_encoder=TrxEncoder(**trx_encoder_params),\n",
    "    hidden_size=64,\n",
    "    type='gru',\n",
    ")"
   ]
  },
  {
   "cell_type": "code",
   "execution_count": null,
   "metadata": {},
   "outputs": [],
   "source": [
    "model = CoLESModule(\n",
    "    seq_encoder=seq_encoder,\n",
    "    optimizer_partial=partial(torch.optim.Adam, lr=0.001),\n",
    "    lr_scheduler_partial=partial(torch.optim.lr_scheduler.StepLR, step_size=3, gamma=0.9025)\n",
    ")"
   ]
  },
  {
   "cell_type": "code",
   "execution_count": null,
   "metadata": {},
   "outputs": [],
   "source": [
    "trainer = pl.Trainer(\n",
    "    max_epochs=30,\n",
    "    limit_val_batches=5000,\n",
    "    # gpus=[0],\n",
    "    enable_progress_bar=True,\n",
    "    gradient_clip_val=0.5,\n",
    "    logger=pl.loggers.TensorBoardLogger(\n",
    "        save_dir='./logdir',\n",
    "        name='geo_result'\n",
    "    ),\n",
    "    callbacks=[\n",
    "        pl.callbacks.LearningRateMonitor(logging_interval='step'),\n",
    "        pl.callbacks.ModelCheckpoint(every_n_train_steps=5000, save_top_k=-1),\n",
    "        pl.callbacks.EarlyStopping(monitor=\"valid/recall_top_k\", mode=\"max\", patience=5),\n",
    "        pl.callbacks.EarlyStopping(monitor=\"loss\", mode=\"min\", patience=3),\n",
    "    ]\n",
    ")"
   ]
  },
  {
   "cell_type": "code",
   "execution_count": null,
   "metadata": {},
   "outputs": [],
   "source": [
    "trainer.fit(model, train_dl)"
   ]
  },
  {
   "attachments": {
    "image.png": {
     "image/png": "[encoded data removed]"
    }
   },
   "cell_type": "markdown",
   "metadata": {},
   "source": [
    "![image.png](attachment:image.png)"
   ]
  },
  {
   "cell_type": "code",
   "execution_count": null,
   "metadata": {},
   "outputs": [],
   "source": [
    "torch.save(model.state_dict(), '../data/models/geo_emb64_model.pt')"
   ]
  },
  {
   "cell_type": "markdown",
   "metadata": {},
   "source": [
    "## Эмбеддинги"
   ]
  },
  {
   "cell_type": "code",
   "execution_count": null,
   "metadata": {},
   "outputs": [],
   "source": [
    "device  = torch.device(\"cuda\")\n",
    "model = model.to(device)\n",
    "\n",
    "train_emb_df = get_train_dataset(processed_train, model, sorted(target_train.mon.sort_values().unique()), device)\n",
    "val_emb_df = get_val_dataset(processed_test, model, sorted(target_test.mon.sort_values().unique()), device)\n",
    "test_emb_df = get_test_dataset(processed_test, model, device)"
   ]
  },
  {
   "cell_type": "code",
   "execution_count": null,
   "metadata": {},
   "outputs": [],
   "source": [
    "train_emb_df.to_csv('../data/train_geo_emb_v8.csv', index=False)\n",
    "val_emb_df.to_csv('../data/val_geo_emb_v8.csv', index=False)\n",
    "test_emb_df.to_csv('../data/test_geo_emb_v8.csv', index=False)"
   ]
  },
  {
   "cell_type": "markdown",
   "metadata": {},
   "source": [
    "# Диалоги"
   ]
  },
  {
   "cell_type": "markdown",
   "metadata": {},
   "source": [
    "## Данные"
   ]
  },
  {
   "cell_type": "code",
   "execution_count": null,
   "metadata": {},
   "outputs": [],
   "source": [
    "dial_train = pd.read_parquet(\"../data/dial_train.parquet\")\n",
    "dial_test = pd.read_parquet(\"../data/dial_test.parquet\")"
   ]
  },
  {
   "cell_type": "code",
   "execution_count": null,
   "metadata": {},
   "outputs": [],
   "source": [
    "# для ускорения вычислений (eco:))\n",
    "from sklearn.decomposition import PCA\n",
    "\n",
    "\n",
    "pca = PCA(n_components = 0.865)\n",
    "reduced_train = pca.fit_transform(dial_train[['embedding']].apply(lambda x: x['embedding'], result_type=\"expand\", axis=1))\n",
    "reduced_test = pca.transform(dial_test[['embedding']].apply(lambda x: x['embedding'], result_type=\"expand\", axis=1))"
   ]
  },
  {
   "cell_type": "code",
   "execution_count": null,
   "metadata": {},
   "outputs": [],
   "source": [
    "dial_train = pd.concat([dial_train[['client_id', 'event_time']], pd.DataFrame(reduced_train, columns=[f'emb_{i}' for i in range(reduced_train.shape[1])])], axis='columns')\n",
    "dial_test = pd.concat([dial_test[['client_id', 'event_time']], pd.DataFrame(reduced_test, columns=[f'emb_{i}' for i in range(reduced_train.shape[1])])], axis='columns')"
   ]
  },
  {
   "cell_type": "code",
   "execution_count": null,
   "metadata": {},
   "outputs": [],
   "source": [
    "preprocessor = PandasDataPreprocessor(\n",
    "    col_id=\"client_id\",\n",
    "    col_event_time=\"event_time\",\n",
    "    event_time_transformation=\"dt_to_timestamp\",\n",
    "    cols_numerical=[f'emb_{i}' for i in range(reduced_train.shape[1])],\n",
    "    return_records=False,\n",
    ")\n",
    "preprocessor = preprocessor.fit(dial_train)\n",
    "with open('../data/transformers/dial_preprocessor.pkl', 'wb') as f:\n",
    "    pickle.dump(preprocessor, f)"
   ]
  },
  {
   "cell_type": "code",
   "execution_count": null,
   "metadata": {},
   "outputs": [],
   "source": [
    "# Сохраняемся, чтобы не расчитывать заново\n",
    "processed_train = preprocessor.transform(dial_train)\n",
    "processed_train.to_pickle('../data/dial_processed_train.pkl')\n",
    "\n",
    "processed_test = preprocessor.transform(dial_test)\n",
    "processed_test.to_pickle('../data/dial_processed_test.pkl')"
   ]
  },
  {
   "cell_type": "code",
   "execution_count": null,
   "metadata": {},
   "outputs": [],
   "source": [
    "train_dl = prepare_train_dl(processed_train, processed_test, min_seq_len=8, batch_size=256)"
   ]
  },
  {
   "cell_type": "markdown",
   "metadata": {},
   "source": [
    "## Модель"
   ]
  },
  {
   "cell_type": "code",
   "execution_count": null,
   "metadata": {},
   "outputs": [],
   "source": [
    "trx_encoder_params = dict(\n",
    "    embeddings_noise=0.003,\n",
    "    numeric_values={f'emb_{i}': 'log' for i in range(8)},\n",
    ")\n",
    "seq_encoder = RnnSeqEncoder(\n",
    "    trx_encoder=TrxEncoder(**trx_encoder_params),\n",
    "    hidden_size=64,\n",
    "    type='gru',\n",
    ")\n",
    "model = CoLESModule(\n",
    "    seq_encoder=seq_encoder,\n",
    "    optimizer_partial=partial(torch.optim.Adam, lr=0.001),\n",
    "    lr_scheduler_partial=partial(torch.optim.lr_scheduler.StepLR, step_size=3, gamma=0.9025)\n",
    ")\n",
    "\n",
    "trainer = pl.Trainer(\n",
    "    max_epochs=30,\n",
    "    limit_val_batches=5000,\n",
    "    # gpus=[0],\n",
    "    enable_progress_bar=True,\n",
    "    gradient_clip_val=0.5,\n",
    "    logger=pl.loggers.TensorBoardLogger(\n",
    "        save_dir='./logdir',\n",
    "        name='dial_result'\n",
    "    ),\n",
    "    callbacks=[\n",
    "        pl.callbacks.LearningRateMonitor(logging_interval='step'),\n",
    "        pl.callbacks.ModelCheckpoint(every_n_train_steps=5000, save_top_k=-1),\n",
    "        pl.callbacks.EarlyStopping(monitor=\"valid/recall_top_k\", mode=\"max\", patience=5),\n",
    "        pl.callbacks.EarlyStopping(monitor=\"loss\", mode=\"min\", patience=3),\n",
    "    ]\n",
    ")"
   ]
  },
  {
   "cell_type": "code",
   "execution_count": null,
   "metadata": {},
   "outputs": [],
   "source": [
    "trainer.fit(model, train_dl)"
   ]
  },
  {
   "attachments": {
    "image.png": {
     "image/png": "[encoded data removed]"
    }
   },
   "cell_type": "markdown",
   "metadata": {},
   "source": [
    "![image.png](attachment:image.png)"
   ]
  },
  {
   "cell_type": "code",
   "execution_count": null,
   "metadata": {},
   "outputs": [],
   "source": [
    "torch.save(model.state_dict(), '../data/models/dial_emb64_model.pt')"
   ]
  },
  {
   "cell_type": "markdown",
   "metadata": {},
   "source": [
    "## Эмбеддинги"
   ]
  },
  {
   "cell_type": "code",
   "execution_count": null,
   "metadata": {},
   "outputs": [],
   "source": [
    "device  = torch.device(\"cuda\")\n",
    "model = model.to(device)\n",
    "\n",
    "train_emb_df = get_train_dataset(processed_train, model, sorted(target_train.mon.sort_values().unique()), device)\n",
    "val_emb_df = get_val_dataset(processed_test, model, sorted(target_test.mon.sort_values().unique()), device)\n",
    "test_emb_df = get_test_dataset(processed_test, model, device)"
   ]
  },
  {
   "cell_type": "code",
   "execution_count": null,
   "metadata": {},
   "outputs": [],
   "source": [
    "train_emb_df.to_csv('../data/train_dial_emb_v8.csv', index=False)\n",
    "val_emb_df.to_csv('../data/val_dial_emb_v8.csv', index=False)\n",
    "test_emb_df.to_csv('../data/test_dial_emb_v8.csv', index=False)"
   ]
  }
 ],
 "metadata": {
  "language_info": {
   "name": "python"
  }
 },
 "nbformat": 4,
 "nbformat_minor": 2
}
