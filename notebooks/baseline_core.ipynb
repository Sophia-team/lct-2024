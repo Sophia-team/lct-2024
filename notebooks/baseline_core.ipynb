{
  "cells": [
    {
      "cell_type": "markdown",
      "metadata": {
        "id": "qNY6wFlLXaH4"
      },
      "source": [
        "# Processing"
      ]
    },
    {
      "cell_type": "markdown",
      "metadata": {
        "id": "PSmQkyJMdEkT"
      },
      "source": [
        "## Data subsample"
      ]
    },
    {
      "cell_type": "code",
      "execution_count": 1,
      "metadata": {
        "id": "ehqg2wCefhX6"
      },
      "outputs": [],
      "source": [
        "from sklearn.model_selection import train_test_split\n",
        "import pandas as pd\n",
        "import pickle\n",
        "import gc\n",
        "\n",
        "RS = 2024\n",
        "DATA_PATH = '/content/drive/MyDrive/LCT_HACK/data'"
      ]
    },
    {
      "cell_type": "code",
      "execution_count": null,
      "metadata": {
        "id": "35kSxVETflDW"
      },
      "outputs": [],
      "source": [
        "N_CLIENTS = 50000\n",
        "\n",
        "target_train = pd.read_parquet(f\"{DATA_PATH}/train_target.parquet\")\n",
        "target_clients = target_train.client_id.unique()\n",
        "\n",
        "_, __, clients, ___ = train_test_split(target_clients, target_clients,\n",
        "                                       train_size=N_CLIENTS/target_clients.size,\n",
        "                                       random_state=RS)\n"
      ]
    },
    {
      "cell_type": "code",
      "execution_count": null,
      "metadata": {
        "id": "4w8GslBWfoSC"
      },
      "outputs": [],
      "source": [
        "target50k = target_train[target_train.client_id.isin(clients)]\n",
        "target50k.to_parquet(f'{DATA_PATH}/train_target_50k.parquet')"
      ]
    },
    {
      "cell_type": "code",
      "execution_count": null,
      "metadata": {
        "id": "fwM9nxTufp3q"
      },
      "outputs": [],
      "source": [
        "dialogs_train = pd.read_parquet(f\"{DATA_PATH}/dial_train.parquet\")\n",
        "dialogs_train_50k = dialogs_train[dialogs_train.client_id.isin(clients)]\n",
        "dialogs_train_50k.to_parquet(f'{DATA_PATH}/dial_train_50k.parquet')"
      ]
    },
    {
      "cell_type": "code",
      "execution_count": null,
      "metadata": {
        "id": "G4uRUmfvfr4x"
      },
      "outputs": [],
      "source": [
        "transactions_train = pd.read_parquet(f\"{DATA_PATH}/trx_train.parquet\")\n",
        "transactions_train_50k = transactions_train[transactions_train.client_id.isin(clients)]\n",
        "transactions_train_50k.to_parquet(f'{DATA_PATH}/trx_train_50k.parquet')"
      ]
    },
    {
      "cell_type": "code",
      "execution_count": null,
      "metadata": {
        "id": "oVji8QCjm9_K"
      },
      "outputs": [],
      "source": [
        "geo_50k = []\n",
        "\n",
        "names = [f'part-{i}.parquet' for i in range(0, 31)]\n",
        "\n",
        "for name in names:\n",
        "    geo_pt = pd.read_parquet(f\"{DATA_PATH}/geo_train.parquet/{name}\")\n",
        "    geo_50k.append(geo_pt[geo_pt.client_id.isin(clients)])\n",
        "\n",
        "geo_50k = pd.concat(geo_50k, axis=0)\n",
        "geo_50k.to_parquet(f'{DATA_PATH}/geo_train_50k.parquet')"
      ]
    },
    {
      "cell_type": "code",
      "execution_count": null,
      "metadata": {
        "id": "wnhUqc-Cq2WY"
      },
      "outputs": [],
      "source": []
    },
    {
      "cell_type": "code",
      "execution_count": 2,
      "metadata": {
        "id": "5YpYtNs6q1rN"
      },
      "outputs": [],
      "source": [
        "N_CLIENTS = 75000\n",
        "\n",
        "target_train = pd.read_parquet(f\"{DATA_PATH}/test_target_b.parquet\")\n",
        "clients = target_train.client_id.unique()[N_CLIENTS:]#[:N_CLIENTS]\n"
      ]
    },
    {
      "cell_type": "code",
      "execution_count": 20,
      "metadata": {
        "colab": {
          "base_uri": "https://localhost:8080/"
        },
        "id": "zxmCLA9gruol",
        "outputId": "99d541ba-e004-4c91-e6de-b5f8d7a34ace"
      },
      "outputs": [
        {
          "data": {
            "text/plain": [
              "86"
            ]
          },
          "execution_count": 20,
          "metadata": {},
          "output_type": "execute_result"
        }
      ],
      "source": [
        "target50k = target_train[target_train.client_id.isin(clients)]\n",
        "target50k.to_parquet(f'{DATA_PATH}/test_target_070.parquet')\n",
        "del target50k\n",
        "gc.collect()"
      ]
    },
    {
      "cell_type": "code",
      "execution_count": 21,
      "metadata": {
        "colab": {
          "base_uri": "https://localhost:8080/"
        },
        "id": "GtvUsXGqr72M",
        "outputId": "bc11ea4c-3a01-4ae0-8168-53bb95592ff7"
      },
      "outputs": [
        {
          "data": {
            "text/plain": [
              "0"
            ]
          },
          "execution_count": 21,
          "metadata": {},
          "output_type": "execute_result"
        }
      ],
      "source": [
        "dialogs_train_50k = pd.read_parquet(f\"{DATA_PATH}/dial_test.parquet\")\n",
        "dialogs_train_50k = dialogs_train_50k[dialogs_train_50k.client_id.isin(clients)]\n",
        "dialogs_train_50k.to_parquet(f'{DATA_PATH}/dial_test_070.parquet')\n",
        "del dialogs_train_50k\n",
        "gc.collect()"
      ]
    },
    {
      "cell_type": "code",
      "execution_count": 3,
      "metadata": {
        "colab": {
          "base_uri": "https://localhost:8080/"
        },
        "id": "Q03r9t1nsCxj",
        "outputId": "41b8a78e-443d-4829-a7f8-1175c812522c"
      },
      "outputs": [
        {
          "data": {
            "text/plain": [
              "0"
            ]
          },
          "execution_count": 3,
          "metadata": {},
          "output_type": "execute_result"
        }
      ],
      "source": [
        "transactions_train_50k = pd.read_parquet(f\"{DATA_PATH}/trx_test.parquet\")[['client_id', 'event_time', 'amount', 'event_type']]\n",
        "transactions_train_50k = transactions_train_50k[transactions_train_50k.client_id.isin(clients)]\n",
        "transactions_train_50k.to_parquet(f'{DATA_PATH}/trx_test_070.parquet')\n",
        "del transactions_train_50k\n",
        "gc.collect()"
      ]
    },
    {
      "cell_type": "code",
      "execution_count": 4,
      "metadata": {
        "colab": {
          "base_uri": "https://localhost:8080/"
        },
        "id": "OyhNl3RfsGyZ",
        "outputId": "5f97c5a4-dda6-442d-cdd5-fb30b9b69c55"
      },
      "outputs": [
        {
          "data": {
            "text/plain": [
              "0"
            ]
          },
          "execution_count": 4,
          "metadata": {},
          "output_type": "execute_result"
        }
      ],
      "source": [
        "geo_50k = []\n",
        "\n",
        "names = [f'part-{i}.parquet' for i in range(0, 6)]\n",
        "\n",
        "for name in names:\n",
        "    geo_pt = pd.read_parquet(f\"{DATA_PATH}/geo_test.parquet/{name}\")\n",
        "    geo_50k.append(geo_pt[geo_pt.client_id.isin(clients)])\n",
        "    gc.collect()\n",
        "\n",
        "geo_50k = pd.concat(geo_50k, axis=0)\n",
        "geo_50k.to_parquet(f'{DATA_PATH}/geo_test_070.parquet')\n",
        "del geo_50k\n",
        "gc.collect()"
      ]
    },
    {
      "cell_type": "markdown",
      "metadata": {
        "id": "NBjrjMH2RslM"
      },
      "source": [
        "## GEO tokenization"
      ]
    },
    {
      "cell_type": "code",
      "execution_count": null,
      "metadata": {
        "id": "MlmxPMJbgiqq"
      },
      "outputs": [],
      "source": [
        "geo = pd.read_parquet(f'{DATA_PATH}/geo_train_50k.parquet')"
      ]
    },
    {
      "cell_type": "code",
      "execution_count": null,
      "metadata": {
        "colab": {
          "base_uri": "https://localhost:8080/"
        },
        "id": "05QZ2qeX6kqm",
        "outputId": "9d5c7073-e306-4123-d3c9-eafa99d16408"
      },
      "outputs": [
        {
          "data": {
            "text/plain": [
              "14239"
            ]
          },
          "execution_count": 97,
          "metadata": {},
          "output_type": "execute_result"
        }
      ],
      "source": [
        "len(geo.geohash_4.unique())"
      ]
    },
    {
      "cell_type": "code",
      "execution_count": null,
      "metadata": {
        "colab": {
          "base_uri": "https://localhost:8080/"
        },
        "id": "2HC3jXEqR65Q",
        "outputId": "da050ab3-e710-4729-d31f-d39b942c5fe7"
      },
      "outputs": [
        {
          "data": {
            "text/plain": [
              "0.53868396"
            ]
          },
          "execution_count": 97,
          "metadata": {},
          "output_type": "execute_result"
        }
      ],
      "source": [
        "geo.shape[0]/1000/50000"
      ]
    },
    {
      "cell_type": "code",
      "execution_count": null,
      "metadata": {
        "id": "VRagTE_uW7G_"
      },
      "outputs": [],
      "source": [
        "# Выделяем крупные скопления"
      ]
    },
    {
      "cell_type": "code",
      "execution_count": null,
      "metadata": {
        "colab": {
          "base_uri": "https://localhost:8080/"
        },
        "id": "zOSzztsTVrDz",
        "outputId": "65df7767-2708-4ede-e99c-5e92ef6378fe"
      },
      "outputs": [
        {
          "name": "stdout",
          "output_type": "stream",
          "text": [
            "3000 8978\n"
          ]
        }
      ],
      "source": []
    },
    {
      "cell_type": "code",
      "execution_count": null,
      "metadata": {
        "colab": {
          "base_uri": "https://localhost:8080/"
        },
        "id": "QdrO1BZuaUxt",
        "outputId": "9ef0fdae-f9f3-48ed-8119-0cd7cef53f46"
      },
      "outputs": [
        {
          "name": "stdout",
          "output_type": "stream",
          "text": [
            "2964 8952\n"
          ]
        }
      ],
      "source": []
    },
    {
      "cell_type": "code",
      "execution_count": null,
      "metadata": {
        "colab": {
          "base_uri": "https://localhost:8080/"
        },
        "id": "5N3JUw9Qar7V",
        "outputId": "1adc45bd-3e5d-404c-bed6-5412c7d9a737"
      },
      "outputs": [
        {
          "name": "stdout",
          "output_type": "stream",
          "text": [
            "2366 4510\n"
          ]
        }
      ],
      "source": []
    },
    {
      "cell_type": "code",
      "execution_count": null,
      "metadata": {
        "id": "VRi3FkknmLyP"
      },
      "outputs": [],
      "source": [
        "geo_places = [places_4, places_5, places_6]\n",
        "with open(f'{DATA_PATH}/geo_places.pkl', 'wb') as fl:\n",
        "    pickle.dump(geo_places, fl)"
      ]
    },
    {
      "cell_type": "code",
      "execution_count": null,
      "metadata": {
        "id": "AMiV951toOmo"
      },
      "outputs": [],
      "source": [
        "def geo_tokenizer(df, geo_places):\n",
        "    df.loc[df.geohash_4.isin(geo_places[0]), 'geo_token'] = df[df.geohash_4.isin(geo_places[0])].geohash_4\n",
        "    df.loc[df.geohash_5.isin(geo_places[1]), 'geo_token'] = df[df.geohash_5.isin(geo_places[1])].geohash_5\n",
        "    df.loc[df.geohash_6.isin(geo_places[2]), 'geo_token'] = df[df.geohash_6.isin(geo_places[2])].geohash_6\n",
        "\n",
        "    # самые редки места, либо в одно, либо убрать такие записи\n",
        "    df.loc[df.geo_token.isna(), 'geo_token'] = -999 #geo[geo.geo_token.isna()].geohash_4\n",
        "    gc.collect()\n",
        "    return df"
      ]
    },
    {
      "cell_type": "code",
      "execution_count": null,
      "metadata": {
        "id": "HrlgMzx8eB7h"
      },
      "outputs": [],
      "source": [
        "geo_places = pd.read_pickle(f'{DATA_PATH}/geo_places.pkl')\n",
        "geo = geo_tokenizer(geo, geo_places)"
      ]
    },
    {
      "cell_type": "code",
      "execution_count": null,
      "metadata": {
        "colab": {
          "base_uri": "https://localhost:8080/"
        },
        "id": "CjE9iTzseCAL",
        "outputId": "99c61dcd-e30f-4b42-c1b6-999b26a29c8e"
      },
      "outputs": [
        {
          "data": {
            "text/plain": [
              "1135"
            ]
          },
          "execution_count": 168,
          "metadata": {},
          "output_type": "execute_result"
        }
      ],
      "source": [
        "len(geo.geo_token.unique())"
      ]
    },
    {
      "cell_type": "code",
      "execution_count": null,
      "metadata": {
        "colab": {
          "base_uri": "https://localhost:8080/"
        },
        "id": "EUDFXuCdl3O2",
        "outputId": "2921fdc4-8bcf-4db5-c837-88fd373966a8"
      },
      "outputs": [
        {
          "data": {
            "text/plain": [
              "geo_token\n",
              "-999.0       3076435\n",
              " 259576.0     155007\n",
              " 86427.0      128959\n",
              " 288962.0     122058\n",
              " 157213.0     110608\n",
              "              ...   \n",
              " 18034.0        4546\n",
              " 45340.0        4540\n",
              " 21552.0        4535\n",
              " 21633.0        4530\n",
              " 11331.0        4512\n",
              "Name: count, Length: 1135, dtype: int64"
            ]
          },
          "execution_count": 169,
          "metadata": {},
          "output_type": "execute_result"
        }
      ],
      "source": [
        "geo.geo_token.value_counts()"
      ]
    },
    {
      "cell_type": "code",
      "execution_count": null,
      "metadata": {
        "id": "q9knlfvcl8De"
      },
      "outputs": [],
      "source": [
        "geo[['client_id', 'event_time', 'geo_token']].to_parquet(f'{DATA_PATH}/geo_train_50k_tok.parquet')"
      ]
    },
    {
      "cell_type": "markdown",
      "metadata": {
        "id": "d_NRI8VtyVaD"
      },
      "source": [
        "# DATA"
      ]
    },
    {
      "cell_type": "code",
      "execution_count": 4,
      "metadata": {
        "colab": {
          "base_uri": "https://localhost:8080/"
        },
        "id": "67DrqC-LzNbU",
        "outputId": "00436b56-32fb-45db-a972-83244e601b22"
      },
      "outputs": [
        {
          "name": "stdout",
          "output_type": "stream",
          "text": [
            "Collecting tsfresh\n",
            "  Downloading tsfresh-0.20.2-py2.py3-none-any.whl (95 kB)\n",
            "\u001b[?25l     \u001b[90m━━━━━━━━━━━━━━━━━━━━━━━━━━━━━━━━━━━━━━━━\u001b[0m \u001b[32m0.0/95.8 kB\u001b[0m \u001b[31m?\u001b[0m eta \u001b[36m-:--:--\u001b[0m\r\u001b[2K     \u001b[91m━━━━━━━━━━━━━━━━━━━━━━━━━━━━━━━━━━━━━━\u001b[0m\u001b[90m╺\u001b[0m\u001b[90m━\u001b[0m \u001b[32m92.2/95.8 kB\u001b[0m \u001b[31m3.0 MB/s\u001b[0m eta \u001b[36m0:00:01\u001b[0m\r\u001b[2K     \u001b[90m━━━━━━━━━━━━━━━━━━━━━━━━━━━━━━━━━━━━━━━━\u001b[0m \u001b[32m95.8/95.8 kB\u001b[0m \u001b[31m2.4 MB/s\u001b[0m eta \u001b[36m0:00:00\u001b[0m\n",
            "\u001b[?25hRequirement already satisfied: requests>=2.9.1 in /usr/local/lib/python3.10/dist-packages (from tsfresh) (2.31.0)\n",
            "Requirement already satisfied: numpy>=1.15.1 in /usr/local/lib/python3.10/dist-packages (from tsfresh) (1.25.2)\n",
            "Requirement already satisfied: pandas>=0.25.0 in /usr/local/lib/python3.10/dist-packages (from tsfresh) (2.0.3)\n",
            "Requirement already satisfied: scipy>=1.2.0 in /usr/local/lib/python3.10/dist-packages (from tsfresh) (1.11.4)\n",
            "Requirement already satisfied: statsmodels>=0.13 in /usr/local/lib/python3.10/dist-packages (from tsfresh) (0.14.2)\n",
            "Requirement already satisfied: patsy>=0.4.1 in /usr/local/lib/python3.10/dist-packages (from tsfresh) (0.5.6)\n",
            "Requirement already satisfied: scikit-learn>=0.22.0 in /usr/local/lib/python3.10/dist-packages (from tsfresh) (1.2.2)\n",
            "Requirement already satisfied: tqdm>=4.10.0 in /usr/local/lib/python3.10/dist-packages (from tsfresh) (4.66.4)\n",
            "Collecting stumpy>=1.7.2 (from tsfresh)\n",
            "  Downloading stumpy-1.12.0-py3-none-any.whl (169 kB)\n",
            "\u001b[2K     \u001b[90m━━━━━━━━━━━━━━━━━━━━━━━━━━━━━━━━━━━━━━━━\u001b[0m \u001b[32m169.1/169.1 kB\u001b[0m \u001b[31m8.0 MB/s\u001b[0m eta \u001b[36m0:00:00\u001b[0m\n",
            "\u001b[?25hRequirement already satisfied: cloudpickle in /usr/local/lib/python3.10/dist-packages (from tsfresh) (2.2.1)\n",
            "Requirement already satisfied: python-dateutil>=2.8.2 in /usr/local/lib/python3.10/dist-packages (from pandas>=0.25.0->tsfresh) (2.8.2)\n",
            "Requirement already satisfied: pytz>=2020.1 in /usr/local/lib/python3.10/dist-packages (from pandas>=0.25.0->tsfresh) (2023.4)\n",
            "Requirement already satisfied: tzdata>=2022.1 in /usr/local/lib/python3.10/dist-packages (from pandas>=0.25.0->tsfresh) (2024.1)\n",
            "Requirement already satisfied: six in /usr/local/lib/python3.10/dist-packages (from patsy>=0.4.1->tsfresh) (1.16.0)\n",
            "Requirement already satisfied: charset-normalizer<4,>=2 in /usr/local/lib/python3.10/dist-packages (from requests>=2.9.1->tsfresh) (3.3.2)\n",
            "Requirement already satisfied: idna<4,>=2.5 in /usr/local/lib/python3.10/dist-packages (from requests>=2.9.1->tsfresh) (3.7)\n",
            "Requirement already satisfied: urllib3<3,>=1.21.1 in /usr/local/lib/python3.10/dist-packages (from requests>=2.9.1->tsfresh) (2.0.7)\n",
            "Requirement already satisfied: certifi>=2017.4.17 in /usr/local/lib/python3.10/dist-packages (from requests>=2.9.1->tsfresh) (2024.6.2)\n",
            "Requirement already satisfied: joblib>=1.1.1 in /usr/local/lib/python3.10/dist-packages (from scikit-learn>=0.22.0->tsfresh) (1.4.2)\n",
            "Requirement already satisfied: threadpoolctl>=2.0.0 in /usr/local/lib/python3.10/dist-packages (from scikit-learn>=0.22.0->tsfresh) (3.5.0)\n",
            "Requirement already satisfied: packaging>=21.3 in /usr/local/lib/python3.10/dist-packages (from statsmodels>=0.13->tsfresh) (24.1)\n",
            "Requirement already satisfied: numba>=0.55.2 in /usr/local/lib/python3.10/dist-packages (from stumpy>=1.7.2->tsfresh) (0.58.1)\n",
            "Requirement already satisfied: llvmlite<0.42,>=0.41.0dev0 in /usr/local/lib/python3.10/dist-packages (from numba>=0.55.2->stumpy>=1.7.2->tsfresh) (0.41.1)\n",
            "Installing collected packages: stumpy, tsfresh\n",
            "Successfully installed stumpy-1.12.0 tsfresh-0.20.2\n"
          ]
        }
      ],
      "source": [
        "!pip install tsfresh"
      ]
    },
    {
      "cell_type": "code",
      "execution_count": 22,
      "metadata": {
        "id": "8rF4wDgszP5_"
      },
      "outputs": [],
      "source": [
        "from tsfresh import extract_features\n",
        "from tsfresh.feature_extraction.settings import MinimalFCParameters\n",
        "from lightgbm import LGBMClassifier, Dataset\n",
        "import lightgbm\n",
        "import pandas as pd\n",
        "from sklearn.model_selection import train_test_split\n",
        "from sklearn.metrics import roc_auc_score\n",
        "from sklearn.preprocessing import OneHotEncoder\n",
        "\n",
        "from datetime import datetime\n",
        "import pickle\n",
        "import gc\n",
        "\n",
        "\n",
        "RS = 2024\n",
        "DATA_PATH = '/content/drive/MyDrive/LCT_HACK/data'"
      ]
    },
    {
      "cell_type": "code",
      "execution_count": 6,
      "metadata": {
        "id": "x-MZJ14HlK3v"
      },
      "outputs": [],
      "source": [
        "target_train = pd.read_parquet(f\"{DATA_PATH}/train_target_50k.parquet\")\n",
        "target_train.mon = pd.to_datetime(target_train.mon)"
      ]
    },
    {
      "cell_type": "markdown",
      "metadata": {
        "id": "DFf43HdRkYui"
      },
      "source": [
        "## GEO agregates"
      ]
    },
    {
      "cell_type": "code",
      "execution_count": 3,
      "metadata": {
        "id": "52OA-Opo3ybm"
      },
      "outputs": [],
      "source": [
        "geo_train = pd.read_parquet(f\"{DATA_PATH}/geo_train_50k_tok.parquet\")\n",
        "geo_train = geo_train[geo_train.geo_token != -999].reset_index(drop=True)"
      ]
    },
    {
      "cell_type": "code",
      "execution_count": 4,
      "metadata": {
        "id": "sq6AeoEck9Xy"
      },
      "outputs": [],
      "source": [
        "def geo_agr(tg, geo_tokens, top_n=3):\n",
        "    geo = []\n",
        "    for mon in tg.mon.unique():\n",
        "        geo_counts = geo_tokens[geo_tokens.event_time < mon]\n",
        "        geo_counts = geo_counts.groupby(['client_id', 'geo_token']).count().reset_index().sort_values(['client_id', 'event_time'], ascending=[False, False]).reset_index(drop=True)\n",
        "        geo_counts['n'] = geo_counts.groupby('client_id').cumcount() + 1\n",
        "        geo_counts = geo_counts[geo_counts.n <= top_n].groupby('client_id').geo_token.apply(list).reset_index()\n",
        "        geo_counts[[f'geo_top_{i}' for i in range(1, top_n + 1)]] = pd.DataFrame(geo_counts.geo_token.to_list())\n",
        "        geo_counts['mon'] = mon\n",
        "        geo.append(geo_counts[['client_id', 'mon'] + [f'geo_top_{i}' for i in range(1, top_n + 1)]])\n",
        "\n",
        "    geo = pd.concat(geo, axis=0)\n",
        "    gc.collect()\n",
        "    return geo"
      ]
    },
    {
      "cell_type": "code",
      "execution_count": 5,
      "metadata": {
        "colab": {
          "base_uri": "https://localhost:8080/",
          "height": 142
        },
        "id": "ZFd0HmMnx8nH",
        "outputId": "07e191ae-e900-443e-bb70-c2046f6c28c9"
      },
      "outputs": [
        {
          "data": {
            "application/vnd.google.colaboratory.intrinsic+json": {
              "type": "dataframe",
              "variable_name": "geo_feats_train"
            },
            "text/html": [
              "\n",
              "  <div id=\"df-773f4920-efa7-4461-8fca-8d1f2778a46b\" class=\"colab-df-container\">\n",
              "    <div>\n",
              "<style scoped>\n",
              "    .dataframe tbody tr th:only-of-type {\n",
              "        vertical-align: middle;\n",
              "    }\n",
              "\n",
              "    .dataframe tbody tr th {\n",
              "        vertical-align: top;\n",
              "    }\n",
              "\n",
              "    .dataframe thead th {\n",
              "        text-align: right;\n",
              "    }\n",
              "</style>\n",
              "<table border=\"1\" class=\"dataframe\">\n",
              "  <thead>\n",
              "    <tr style=\"text-align: right;\">\n",
              "      <th></th>\n",
              "      <th>client_id</th>\n",
              "      <th>mon</th>\n",
              "      <th>geo_top_1</th>\n",
              "      <th>geo_top_2</th>\n",
              "      <th>geo_top_3</th>\n",
              "    </tr>\n",
              "  </thead>\n",
              "  <tbody>\n",
              "    <tr>\n",
              "      <th>0</th>\n",
              "      <td>00029a825a16e94c58173fb180934d4f9b1a09007ddf34...</td>\n",
              "      <td>2022-02-28</td>\n",
              "      <td>140021.0</td>\n",
              "      <td>363824.0</td>\n",
              "      <td>31882.0</td>\n",
              "    </tr>\n",
              "    <tr>\n",
              "      <th>1</th>\n",
              "      <td>0002b5509d12d4abd6e08359eb19d4ee358063e24b7681...</td>\n",
              "      <td>2022-02-28</td>\n",
              "      <td>77821.0</td>\n",
              "      <td>43802.0</td>\n",
              "      <td>18871.0</td>\n",
              "    </tr>\n",
              "    <tr>\n",
              "      <th>2</th>\n",
              "      <td>0003ed29607544f1a626e75abc5da9164a9e23e3fb8c33...</td>\n",
              "      <td>2022-02-28</td>\n",
              "      <td>212496.0</td>\n",
              "      <td>6632.0</td>\n",
              "      <td>147521.0</td>\n",
              "    </tr>\n",
              "  </tbody>\n",
              "</table>\n",
              "</div>\n",
              "    <div class=\"colab-df-buttons\">\n",
              "\n",
              "  <div class=\"colab-df-container\">\n",
              "    <button class=\"colab-df-convert\" onclick=\"convertToInteractive('df-773f4920-efa7-4461-8fca-8d1f2778a46b')\"\n",
              "            title=\"Convert this dataframe to an interactive table.\"\n",
              "            style=\"display:none;\">\n",
              "\n",
              "  <svg xmlns=\"http://www.w3.org/2000/svg\" height=\"24px\" viewBox=\"0 -960 960 960\">\n",
              "    <path d=\"M120-120v-720h720v720H120Zm60-500h600v-160H180v160Zm220 220h160v-160H400v160Zm0 220h160v-160H400v160ZM180-400h160v-160H180v160Zm440 0h160v-160H620v160ZM180-180h160v-160H180v160Zm440 0h160v-160H620v160Z\"/>\n",
              "  </svg>\n",
              "    </button>\n",
              "\n",
              "  <style>\n",
              "    .colab-df-container {\n",
              "      display:flex;\n",
              "      gap: 12px;\n",
              "    }\n",
              "\n",
              "    .colab-df-convert {\n",
              "      background-color: #E8F0FE;\n",
              "      border: none;\n",
              "      border-radius: 50%;\n",
              "      cursor: pointer;\n",
              "      display: none;\n",
              "      fill: #1967D2;\n",
              "      height: 32px;\n",
              "      padding: 0 0 0 0;\n",
              "      width: 32px;\n",
              "    }\n",
              "\n",
              "    .colab-df-convert:hover {\n",
              "      background-color: #E2EBFA;\n",
              "      box-shadow: 0px 1px 2px rgba(60, 64, 67, 0.3), 0px 1px 3px 1px rgba(60, 64, 67, 0.15);\n",
              "      fill: #174EA6;\n",
              "    }\n",
              "\n",
              "    .colab-df-buttons div {\n",
              "      margin-bottom: 4px;\n",
              "    }\n",
              "\n",
              "    [theme=dark] .colab-df-convert {\n",
              "      background-color: #3B4455;\n",
              "      fill: #D2E3FC;\n",
              "    }\n",
              "\n",
              "    [theme=dark] .colab-df-convert:hover {\n",
              "      background-color: #434B5C;\n",
              "      box-shadow: 0px 1px 3px 1px rgba(0, 0, 0, 0.15);\n",
              "      filter: drop-shadow(0px 1px 2px rgba(0, 0, 0, 0.3));\n",
              "      fill: #FFFFFF;\n",
              "    }\n",
              "  </style>\n",
              "\n",
              "    <script>\n",
              "      const buttonEl =\n",
              "        document.querySelector('#df-773f4920-efa7-4461-8fca-8d1f2778a46b button.colab-df-convert');\n",
              "      buttonEl.style.display =\n",
              "        google.colab.kernel.accessAllowed ? 'block' : 'none';\n",
              "\n",
              "      async function convertToInteractive(key) {\n",
              "        const element = document.querySelector('#df-773f4920-efa7-4461-8fca-8d1f2778a46b');\n",
              "        const dataTable =\n",
              "          await google.colab.kernel.invokeFunction('convertToInteractive',\n",
              "                                                    [key], {});\n",
              "        if (!dataTable) return;\n",
              "\n",
              "        const docLinkHtml = 'Like what you see? Visit the ' +\n",
              "          '<a target=\"_blank\" href=https://colab.research.google.com/notebooks/data_table.ipynb>data table notebook</a>'\n",
              "          + ' to learn more about interactive tables.';\n",
              "        element.innerHTML = '';\n",
              "        dataTable['output_type'] = 'display_data';\n",
              "        await google.colab.output.renderOutput(dataTable, element);\n",
              "        const docLink = document.createElement('div');\n",
              "        docLink.innerHTML = docLinkHtml;\n",
              "        element.appendChild(docLink);\n",
              "      }\n",
              "    </script>\n",
              "  </div>\n",
              "\n",
              "\n",
              "<div id=\"df-1fa762f0-79bb-46a2-a7c7-bd2d03a3bef6\">\n",
              "  <button class=\"colab-df-quickchart\" onclick=\"quickchart('df-1fa762f0-79bb-46a2-a7c7-bd2d03a3bef6')\"\n",
              "            title=\"Suggest charts\"\n",
              "            style=\"display:none;\">\n",
              "\n",
              "<svg xmlns=\"http://www.w3.org/2000/svg\" height=\"24px\"viewBox=\"0 0 24 24\"\n",
              "     width=\"24px\">\n",
              "    <g>\n",
              "        <path d=\"M19 3H5c-1.1 0-2 .9-2 2v14c0 1.1.9 2 2 2h14c1.1 0 2-.9 2-2V5c0-1.1-.9-2-2-2zM9 17H7v-7h2v7zm4 0h-2V7h2v10zm4 0h-2v-4h2v4z\"/>\n",
              "    </g>\n",
              "</svg>\n",
              "  </button>\n",
              "\n",
              "<style>\n",
              "  .colab-df-quickchart {\n",
              "      --bg-color: #E8F0FE;\n",
              "      --fill-color: #1967D2;\n",
              "      --hover-bg-color: #E2EBFA;\n",
              "      --hover-fill-color: #174EA6;\n",
              "      --disabled-fill-color: #AAA;\n",
              "      --disabled-bg-color: #DDD;\n",
              "  }\n",
              "\n",
              "  [theme=dark] .colab-df-quickchart {\n",
              "      --bg-color: #3B4455;\n",
              "      --fill-color: #D2E3FC;\n",
              "      --hover-bg-color: #434B5C;\n",
              "      --hover-fill-color: #FFFFFF;\n",
              "      --disabled-bg-color: #3B4455;\n",
              "      --disabled-fill-color: #666;\n",
              "  }\n",
              "\n",
              "  .colab-df-quickchart {\n",
              "    background-color: var(--bg-color);\n",
              "    border: none;\n",
              "    border-radius: 50%;\n",
              "    cursor: pointer;\n",
              "    display: none;\n",
              "    fill: var(--fill-color);\n",
              "    height: 32px;\n",
              "    padding: 0;\n",
              "    width: 32px;\n",
              "  }\n",
              "\n",
              "  .colab-df-quickchart:hover {\n",
              "    background-color: var(--hover-bg-color);\n",
              "    box-shadow: 0 1px 2px rgba(60, 64, 67, 0.3), 0 1px 3px 1px rgba(60, 64, 67, 0.15);\n",
              "    fill: var(--button-hover-fill-color);\n",
              "  }\n",
              "\n",
              "  .colab-df-quickchart-complete:disabled,\n",
              "  .colab-df-quickchart-complete:disabled:hover {\n",
              "    background-color: var(--disabled-bg-color);\n",
              "    fill: var(--disabled-fill-color);\n",
              "    box-shadow: none;\n",
              "  }\n",
              "\n",
              "  .colab-df-spinner {\n",
              "    border: 2px solid var(--fill-color);\n",
              "    border-color: transparent;\n",
              "    border-bottom-color: var(--fill-color);\n",
              "    animation:\n",
              "      spin 1s steps(1) infinite;\n",
              "  }\n",
              "\n",
              "  @keyframes spin {\n",
              "    0% {\n",
              "      border-color: transparent;\n",
              "      border-bottom-color: var(--fill-color);\n",
              "      border-left-color: var(--fill-color);\n",
              "    }\n",
              "    20% {\n",
              "      border-color: transparent;\n",
              "      border-left-color: var(--fill-color);\n",
              "      border-top-color: var(--fill-color);\n",
              "    }\n",
              "    30% {\n",
              "      border-color: transparent;\n",
              "      border-left-color: var(--fill-color);\n",
              "      border-top-color: var(--fill-color);\n",
              "      border-right-color: var(--fill-color);\n",
              "    }\n",
              "    40% {\n",
              "      border-color: transparent;\n",
              "      border-right-color: var(--fill-color);\n",
              "      border-top-color: var(--fill-color);\n",
              "    }\n",
              "    60% {\n",
              "      border-color: transparent;\n",
              "      border-right-color: var(--fill-color);\n",
              "    }\n",
              "    80% {\n",
              "      border-color: transparent;\n",
              "      border-right-color: var(--fill-color);\n",
              "      border-bottom-color: var(--fill-color);\n",
              "    }\n",
              "    90% {\n",
              "      border-color: transparent;\n",
              "      border-bottom-color: var(--fill-color);\n",
              "    }\n",
              "  }\n",
              "</style>\n",
              "\n",
              "  <script>\n",
              "    async function quickchart(key) {\n",
              "      const quickchartButtonEl =\n",
              "        document.querySelector('#' + key + ' button');\n",
              "      quickchartButtonEl.disabled = true;  // To prevent multiple clicks.\n",
              "      quickchartButtonEl.classList.add('colab-df-spinner');\n",
              "      try {\n",
              "        const charts = await google.colab.kernel.invokeFunction(\n",
              "            'suggestCharts', [key], {});\n",
              "      } catch (error) {\n",
              "        console.error('Error during call to suggestCharts:', error);\n",
              "      }\n",
              "      quickchartButtonEl.classList.remove('colab-df-spinner');\n",
              "      quickchartButtonEl.classList.add('colab-df-quickchart-complete');\n",
              "    }\n",
              "    (() => {\n",
              "      let quickchartButtonEl =\n",
              "        document.querySelector('#df-1fa762f0-79bb-46a2-a7c7-bd2d03a3bef6 button');\n",
              "      quickchartButtonEl.style.display =\n",
              "        google.colab.kernel.accessAllowed ? 'block' : 'none';\n",
              "    })();\n",
              "  </script>\n",
              "</div>\n",
              "    </div>\n",
              "  </div>\n"
            ],
            "text/plain": [
              "                                           client_id        mon  geo_top_1  \\\n",
              "0  00029a825a16e94c58173fb180934d4f9b1a09007ddf34... 2022-02-28   140021.0   \n",
              "1  0002b5509d12d4abd6e08359eb19d4ee358063e24b7681... 2022-02-28    77821.0   \n",
              "2  0003ed29607544f1a626e75abc5da9164a9e23e3fb8c33... 2022-02-28   212496.0   \n",
              "\n",
              "   geo_top_2  geo_top_3  \n",
              "0   363824.0    31882.0  \n",
              "1    43802.0    18871.0  \n",
              "2     6632.0   147521.0  "
            ]
          },
          "execution_count": 5,
          "metadata": {},
          "output_type": "execute_result"
        }
      ],
      "source": [
        "geo_feats_train = geo_agr(target_train, geo_train, top_n=3)\n",
        "geo_feats_train.head(3)"
      ]
    },
    {
      "cell_type": "code",
      "execution_count": 6,
      "metadata": {
        "id": "q0lPOhV-Bfia"
      },
      "outputs": [],
      "source": [
        "with open(f'{DATA_PATH}/geo_feats_train.pkl', 'wb') as fl:\n",
        "    pickle.dump(geo_feats_train, fl)"
      ]
    },
    {
      "cell_type": "code",
      "execution_count": 7,
      "metadata": {
        "id": "feF4TdwUDM4S"
      },
      "outputs": [],
      "source": [
        "del geo_train"
      ]
    },
    {
      "cell_type": "markdown",
      "metadata": {
        "id": "OGsW4nu8Wuxe"
      },
      "source": [
        "## Dialogs"
      ]
    },
    {
      "cell_type": "code",
      "execution_count": 40,
      "metadata": {
        "id": "86cL_p_qWwZf"
      },
      "outputs": [],
      "source": [
        "dialogs_train = pd.read_parquet(f'{DATA_PATH}/dial_train_50k.parquet')\n",
        "\n",
        "def dial_agr(tg, dialogs_emb):\n",
        "    dialogs = []\n",
        "    for mon in tg.mon.unique():\n",
        "        dialogs_mon = dialogs_emb[dialogs_emb.event_time < mon]\n",
        "        dialogs_mon = dialogs_mon[['client_id', 'embedding']].groupby('client_id').mean().reset_index()\n",
        "        dialogs_mon['mon'] = mon\n",
        "        dialogs_mon = pd.concat([dialogs_mon,\n",
        "                                 pd.DataFrame(dialogs_mon.embedding.to_list(), columns=[f'emb_{i}' for i in range(1, 769)])],\n",
        "                                 axis=1)\n",
        "        dialogs.append(dialogs_mon[['client_id', 'mon'] + [f'emb_{i}' for i in range(1, 769)]])\n",
        "\n",
        "    dialogs = pd.concat(dialogs, axis=0)\n",
        "    gc.collect()\n",
        "    return dialogs\n",
        "\n",
        "dialogs_feats_train = dial_agr(target_train, dialogs_train)"
      ]
    },
    {
      "cell_type": "code",
      "execution_count": 41,
      "metadata": {
        "id": "RZAg-IMa3M0D"
      },
      "outputs": [],
      "source": [
        "df_train = target_train.set_index(['mon', 'client_id'])\\\n",
        ".join(dialogs_feats_train.set_index(['mon', 'client_id']), how='left')\n",
        "\n",
        "ids = list(df_train.index.get_level_values('client_id'))[:10000]\n",
        "df_val = df_train[df_train.index.get_level_values('client_id').isin(ids)]\n",
        "df_fit = df_train[~df_train.index.get_level_values('client_id').isin(ids)]\n",
        "gc.collect()"
      ]
    },
    {
      "cell_type": "code",
      "execution_count": 45,
      "metadata": {
        "colab": {
          "base_uri": "https://localhost:8080/"
        },
        "id": "lOBODUO5tueZ",
        "outputId": "fd7bd890-4d39-445c-9105-3c3827e157eb"
      },
      "outputs": [
        {
          "name": "stdout",
          "output_type": "stream",
          "text": [
            "score test: 0.6845879877545538\n",
            "score test: 0.6136529204222436\n",
            "score test: 0.7058776248367327\n",
            "score test: 0.7017977790574007\n"
          ]
        },
        {
          "data": {
            "text/plain": [
              "0.6764790780177328"
            ]
          },
          "execution_count": 45,
          "metadata": {},
          "output_type": "execute_result"
        }
      ],
      "source": [
        "models_emb = {}\n",
        "\n",
        "params = {'class_weight': 'balanced', 'num_leaves': 20, 'max_depth': 1, 'objective': 'binary',\n",
        "          'learning_rate': 0.003, 'n_estimators': 2000, 'verbose': -1, 'random_state': RS}\n",
        "\n",
        "for t in range(1, 5):\n",
        "    target_col = f'target_{t}'\n",
        "    tg = df_fit[target_col]\n",
        "    X = df_fit.drop(columns=[f'target_{i}' for i in range(1, 5)])\n",
        "    trds = Dataset(X, tg)\n",
        "\n",
        "    tgv = df_val[target_col]\n",
        "    Xv = df_val.drop(columns=[f'target_{i}' for i in range(1, 5)])\n",
        "    vds = Dataset(Xv, tgv)\n",
        "\n",
        "    lgbm = lightgbm.train(params=params, train_set=trds, valid_sets=[vds],\n",
        "                          callbacks=[lightgbm.early_stopping(stopping_rounds=5)])\n",
        "\n",
        "    models_emb[target_col] = lgbm\n",
        "    print(f'score train: {roc_auc_score(tg, lgbm.predict(X))}')\n",
        "    gc.collect()\n",
        "\n",
        "\n",
        "metrics = {}\n",
        "\n",
        "for t in range(1, 5):\n",
        "    target_col = f'target_{t}'\n",
        "    tg = df_val[target_col]\n",
        "    X = df_val.drop(columns=[f'target_{i}' for i in range(1, 5)])\n",
        "    metrics[target_col] = roc_auc_score(tg, models_emb[target_col].predict(X))\n",
        "    print(f'score test: {metrics[target_col]}')\n",
        "    gc.collect()\n",
        "\n",
        "sum(metrics.values()) / 4\n",
        "gc.collect()"
      ]
    },
    {
      "cell_type": "code",
      "execution_count": 46,
      "metadata": {
        "id": "J6BLbdi6uF1c"
      },
      "outputs": [],
      "source": [
        "with open(f'{DATA_PATH}/models_embs_baseline.pkl', 'wb') as fl:\n",
        "    pickle.dump(models_emb, fl)"
      ]
    },
    {
      "cell_type": "code",
      "execution_count": 49,
      "metadata": {
        "id": "WeofGx08uadA"
      },
      "outputs": [],
      "source": [
        "models_emb = pd.read_pickle(f'{DATA_PATH}/models_embs_baseline.pkl')"
      ]
    },
    {
      "cell_type": "code",
      "execution_count": 50,
      "metadata": {
        "id": "brrzij7D5tv_"
      },
      "outputs": [],
      "source": [
        "#df_train = pd.read_parquet('f'{DATA_PATH}/df_train_50k_tr_geo_tg.parquet')\n",
        "scores = []\n",
        "\n",
        "for t in range(1, 5):\n",
        "    target_col = f'target_{t}'\n",
        "    tg = df_train[target_col]\n",
        "    X = df_train.drop(columns=[f'target_{i}' for i in range(1, 5)])\n",
        "    score = pd.Series(models_emb[target_col].predict(X))\n",
        "    scores.append(score)\n",
        "    gc.collect()\n",
        "\n",
        "scores = pd.concat(scores, axis=1)\n",
        "scores['client_id'] = df_train.reset_index().client_id\n",
        "scores['mon'] = df_train.reset_index().mon\n",
        "scores_embs_train = scores.rename(columns={0: 'emb_pred_0', 1: 'emb_pred_1', 2: 'emb_pred_2', 3: 'emb_pred_3'})\n",
        "gc.collect()"
      ]
    },
    {
      "cell_type": "code",
      "execution_count": 51,
      "metadata": {
        "id": "1d0Ip2qfBFD2"
      },
      "outputs": [],
      "source": [
        "with open(f'{DATA_PATH}/scores_embs_train.pkl', 'wb') as fl:\n",
        "    pickle.dump(scores_embs_train, fl)"
      ]
    },
    {
      "cell_type": "code",
      "execution_count": 52,
      "metadata": {
        "id": "fx8HjviWDTAg"
      },
      "outputs": [],
      "source": [
        "del dialogs_train\n",
        "gc.collect()"
      ]
    },
    {
      "cell_type": "markdown",
      "metadata": {
        "id": "wDZTJymms6uw"
      },
      "source": [
        "## TSFRESH"
      ]
    },
    {
      "cell_type": "code",
      "execution_count": 23,
      "metadata": {
        "id": "x7irKdjc4v6V"
      },
      "outputs": [],
      "source": [
        "transactions_train = pd.read_parquet(f\"{DATA_PATH}/trx_train_50k.parquet\")\n",
        "\n",
        "target_train = pd.read_parquet(f\"{DATA_PATH}/train_target_50k.parquet\")\n",
        "target_train.mon = pd.to_datetime(target_train.mon)"
      ]
    },
    {
      "cell_type": "code",
      "execution_count": 24,
      "metadata": {
        "id": "L6Atdp044_4v"
      },
      "outputs": [],
      "source": [
        "cat_cols = ['event_type']\n",
        "\n",
        "enc = OneHotEncoder(handle_unknown='ignore')\n",
        "enc.fit(transactions_train[cat_cols])\n",
        "\n",
        "with open(f'{DATA_PATH}/ohe.pkl', 'wb') as fl:\n",
        "    pickle.dump(enc, fl)"
      ]
    },
    {
      "cell_type": "code",
      "execution_count": 10,
      "metadata": {
        "colab": {
          "base_uri": "https://localhost:8080/"
        },
        "id": "_lV1aYtY5TfJ",
        "outputId": "2a659fc8-d2e0-4a14-f981-7fd9c0260fe3"
      },
      "outputs": [
        {
          "name": "stderr",
          "output_type": "stream",
          "text": [
            "WARNING:tsfresh.feature_extraction.settings:Dependency not available for matrix_profile, this feature will be disabled!\n"
          ]
        }
      ],
      "source": [
        "extraction_settings = MinimalFCParameters()\n",
        "\n",
        "def tsfresh_feats(tg, timeseries, cols, ohe=None):\n",
        "\n",
        "    tgts = [f'target_{i}' for i in range(1, 5)]\n",
        "    feats = []\n",
        "    feats_tgts = []\n",
        "\n",
        "    for mon in tg.mon.unique():\n",
        "        tg_mon = tg[tg.mon < mon]\n",
        "        trans = timeseries[timeseries.event_time < mon]\n",
        "        feats_mon = extract_features(trans[['client_id', 'event_time'] + cols], \\\n",
        "                                     column_id=\"client_id\", column_sort=\"event_time\", \\\n",
        "                                     default_fc_parameters=extraction_settings)\n",
        "\n",
        "        # feats_mon_tgts = extract_features(tg_mon, \\\n",
        "        #                              column_id=\"client_id\", column_sort=\"mon\", \\\n",
        "        #                              default_fc_parameters=extraction_settings)\n",
        "\n",
        "        feats_mon_tgts = tg_mon[['client_id'] + tgts].groupby('client_id').sum()[tgts]\n",
        "        feats_mon_tgts['mon'] = mon\n",
        "        rename_dct = {'index': 'client_id'}\n",
        "        rename_dct.update({tgt: tgt + '_sum' for tgt in tgts})\n",
        "        feats_tgts.append(feats_mon_tgts.reset_index().rename(columns=rename_dct))\n",
        "\n",
        "        if ohe:\n",
        "            ohe_cols = list(ohe.get_feature_names_out())\n",
        "            trans_cat = pd.DataFrame(ohe.transform(trans[list(ohe.feature_names_in_)]).toarray(),\\\n",
        "                   columns=ohe_cols)\n",
        "            trans_cat['client_id'] = trans.reset_index().client_id\n",
        "            trans_cat = trans_cat[ohe_cols + ['client_id']]\\\n",
        "            .groupby('client_id').sum()\n",
        "            feats_mon = pd.concat([feats_mon, trans_cat], axis=1)\n",
        "        feats_mon['mon'] = mon\n",
        "        feats.append(feats_mon.reset_index().rename(columns={'index': 'client_id'}))\n",
        "        gc.collect()\n",
        "\n",
        "    feats = pd.concat(feats, axis=0)\n",
        "    feats_tgts = pd.concat(feats_tgts, axis=0)\n",
        "    gc.collect()\n",
        "    return feats, feats_tgts"
      ]
    },
    {
      "cell_type": "code",
      "execution_count": 11,
      "metadata": {
        "colab": {
          "base_uri": "https://localhost:8080/"
        },
        "id": "6POv75Fd1QzG",
        "outputId": "5d5c4373-4164-451a-c58e-936595a351c1"
      },
      "outputs": [
        {
          "name": "stderr",
          "output_type": "stream",
          "text": [
            "Feature Extraction: 100%|██████████| 30091/30091 [00:40<00:00, 749.37it/s]\n",
            "Feature Extraction: 100%|██████████| 31286/31286 [00:39<00:00, 799.96it/s]\n",
            "Feature Extraction: 100%|██████████| 32130/32130 [00:41<00:00, 772.82it/s]\n",
            "Feature Extraction: 100%|██████████| 32885/32885 [00:47<00:00, 689.05it/s]\n",
            "Feature Extraction: 100%|██████████| 33650/33650 [00:48<00:00, 692.42it/s]\n",
            "Feature Extraction: 100%|██████████| 34260/34260 [00:55<00:00, 611.88it/s]\n",
            "Feature Extraction: 100%|██████████| 34785/34785 [00:52<00:00, 665.73it/s]\n",
            "Feature Extraction: 100%|██████████| 35357/35357 [00:52<00:00, 677.55it/s]\n",
            "Feature Extraction: 100%|██████████| 35903/35903 [00:47<00:00, 749.23it/s]\n",
            "Feature Extraction: 100%|██████████| 36284/36284 [00:43<00:00, 837.11it/s]\n",
            "Feature Extraction: 100%|██████████| 36335/36335 [00:42<00:00, 848.88it/s]\n",
            "Feature Extraction: 100%|██████████| 36335/36335 [00:45<00:00, 796.53it/s]\n"
          ]
        }
      ],
      "source": [
        "cols = ['amount']\n",
        "\n",
        "feats_train, feats_train_tgts = tsfresh_feats(target_train, transactions_train, cols, enc)"
      ]
    },
    {
      "cell_type": "code",
      "execution_count": 14,
      "metadata": {
        "id": "kdXdug72B8kw"
      },
      "outputs": [],
      "source": [
        "with open(f'{DATA_PATH}/feats_train.pkl', 'wb') as fl:\n",
        "    pickle.dump(feats_train, fl)\n",
        "\n",
        "with open(f'{DATA_PATH}/feats_train_tgts.pkl', 'wb') as fl:\n",
        "    pickle.dump(feats_train_tgts, fl)"
      ]
    },
    {
      "cell_type": "markdown",
      "metadata": {
        "id": "i7hdyVZlDmTI"
      },
      "source": [
        "## Соединяем все вместе"
      ]
    },
    {
      "cell_type": "code",
      "execution_count": 53,
      "metadata": {
        "id": "IF2fYTICEkEX"
      },
      "outputs": [],
      "source": [
        "target_train = pd.read_parquet(f\"{DATA_PATH}/train_target_50k.parquet\")\n",
        "target_train.mon = pd.to_datetime(target_train.mon)"
      ]
    },
    {
      "cell_type": "code",
      "execution_count": 54,
      "metadata": {
        "id": "qOGtSJ6LD1mT"
      },
      "outputs": [],
      "source": [
        "feats_train = pd.read_pickle(f'{DATA_PATH}/feats_train.pkl')\n",
        "feats_train_tgts = pd.read_pickle(f'{DATA_PATH}/feats_train_tgts.pkl')\n",
        "scores_embs_train = pd.read_pickle(f'{DATA_PATH}/scores_embs_train.pkl')\n",
        "geo_feats_train = pd.read_pickle(f'{DATA_PATH}/geo_feats_train.pkl')"
      ]
    },
    {
      "cell_type": "code",
      "execution_count": 55,
      "metadata": {
        "id": "FhCnSu_n1b23"
      },
      "outputs": [],
      "source": [
        "df_train = target_train.set_index(['mon', 'client_id']).join(feats_train.set_index(['mon', 'client_id']), how='left')\n",
        "df_train = df_train.join(feats_train_tgts.set_index(['mon', 'client_id']), how='left')\n",
        "df_train = df_train.join(geo_feats_train.set_index(['mon', 'client_id']), how='left')\n",
        "df_train = df_train.join(scores_embs_train.set_index(['mon', 'client_id']), how='left')\n",
        "df_train = df_train.fillna(-999)\n",
        "\n",
        "del feats_train\n",
        "del feats_train_tgts\n",
        "del geo_feats_train\n",
        "del scores_embs_train\n",
        "gc.collect()"
      ]
    },
    {
      "cell_type": "code",
      "execution_count": 56,
      "metadata": {
        "id": "wOgkTXq7E0OQ"
      },
      "outputs": [],
      "source": [
        "ids = list(df_train.index.get_level_values('client_id'))[:10000]\n",
        "df_val = df_train[df_train.index.get_level_values('client_id').isin(ids)]\n",
        "df_fit = df_train[~df_train.index.get_level_values('client_id').isin(ids)]"
      ]
    },
    {
      "cell_type": "markdown",
      "metadata": {
        "id": "rBbfLq9288fA"
      },
      "source": [
        "### FIT"
      ]
    },
    {
      "cell_type": "code",
      "execution_count": 57,
      "metadata": {
        "colab": {
          "base_uri": "https://localhost:8080/"
        },
        "id": "VbYT1eAR00eg",
        "outputId": "215c98e9-ffa6-42ce-8c2b-9f8c35005199"
      },
      "outputs": [
        {
          "name": "stderr",
          "output_type": "stream",
          "text": [
            "/usr/local/lib/python3.10/dist-packages/lightgbm/engine.py:172: UserWarning: Found `n_estimators` in params. Will use it instead of argument\n",
            "  _log_warning(f\"Found `{alias}` in params. Will use it instead of argument\")\n"
          ]
        },
        {
          "name": "stdout",
          "output_type": "stream",
          "text": [
            "Training until validation scores don't improve for 5 rounds\n",
            "Did not meet early stopping. Best iteration is:\n",
            "[2000]\tvalid_0's binary_logloss: 0.0440692\n",
            "score train: 0.8056155418618082\n"
          ]
        },
        {
          "name": "stderr",
          "output_type": "stream",
          "text": [
            "/usr/local/lib/python3.10/dist-packages/lightgbm/engine.py:172: UserWarning: Found `n_estimators` in params. Will use it instead of argument\n",
            "  _log_warning(f\"Found `{alias}` in params. Will use it instead of argument\")\n"
          ]
        },
        {
          "name": "stdout",
          "output_type": "stream",
          "text": [
            "Training until validation scores don't improve for 5 rounds\n",
            "Early stopping, best iteration is:\n",
            "[460]\tvalid_0's binary_logloss: 0.00543656\n",
            "score train: 0.8574467039808619\n"
          ]
        },
        {
          "name": "stderr",
          "output_type": "stream",
          "text": [
            "/usr/local/lib/python3.10/dist-packages/lightgbm/engine.py:172: UserWarning: Found `n_estimators` in params. Will use it instead of argument\n",
            "  _log_warning(f\"Found `{alias}` in params. Will use it instead of argument\")\n"
          ]
        },
        {
          "name": "stdout",
          "output_type": "stream",
          "text": [
            "Training until validation scores don't improve for 5 rounds\n",
            "Did not meet early stopping. Best iteration is:\n",
            "[2000]\tvalid_0's binary_logloss: 0.0293627\n",
            "score train: 0.8352231704527255\n"
          ]
        },
        {
          "name": "stderr",
          "output_type": "stream",
          "text": [
            "/usr/local/lib/python3.10/dist-packages/lightgbm/engine.py:172: UserWarning: Found `n_estimators` in params. Will use it instead of argument\n",
            "  _log_warning(f\"Found `{alias}` in params. Will use it instead of argument\")\n"
          ]
        },
        {
          "name": "stdout",
          "output_type": "stream",
          "text": [
            "Training until validation scores don't improve for 5 rounds\n",
            "Did not meet early stopping. Best iteration is:\n",
            "[1997]\tvalid_0's binary_logloss: 0.0263539\n",
            "score train: 0.8281314989511486\n",
            "score test: 0.811313602426057\n",
            "score test: 0.747125287471253\n",
            "score test: 0.8611775344117352\n",
            "score test: 0.8728101542856324\n"
          ]
        },
        {
          "data": {
            "text/plain": [
              "0.8231066446486694"
            ]
          },
          "execution_count": 57,
          "metadata": {},
          "output_type": "execute_result"
        }
      ],
      "source": [
        "models = {}\n",
        "\n",
        "params = {'class_weight': 'balanced', 'num_leaves': 20, 'max_depth': 1, 'objective': 'binary',\n",
        "          'learning_rate': 0.003, 'n_estimators': 2000, 'verbose': -1, 'random_state': RS}\n",
        "\n",
        "for t in range(1, 5):\n",
        "    target_col = f'target_{t}'\n",
        "    tg = df_fit[target_col]\n",
        "    X = df_fit.drop(columns=[f'target_{i}' for i in range(1, 5)])\n",
        "    trds = Dataset(X, tg)\n",
        "\n",
        "    tgv = df_val[target_col]\n",
        "    Xv = df_val.drop(columns=[f'target_{i}' for i in range(1, 5)])\n",
        "    vds = Dataset(Xv, tgv)\n",
        "\n",
        "    lgbm = lightgbm.train(params=params, train_set=trds, valid_sets=[vds],\n",
        "                          callbacks=[lightgbm.early_stopping(stopping_rounds=5)])\n",
        "\n",
        "    models[target_col] = lgbm\n",
        "    print(f'score train: {roc_auc_score(tg, lgbm.predict(X))}')\n",
        "    gc.collect()\n",
        "\n",
        "metrics = {}\n",
        "\n",
        "for t in range(1, 5):\n",
        "    target_col = f'target_{t}'\n",
        "    tg = df_val[target_col]\n",
        "    X = df_val.drop(columns=[f'target_{i}' for i in range(1, 5)])\n",
        "    metrics[target_col] = roc_auc_score(tg, models[target_col].predict(X))\n",
        "    print(f'score test: {metrics[target_col]}')\n",
        "\n",
        "\n",
        "sum(metrics.values()) / 4\n",
        "gc.collect()"
      ]
    },
    {
      "cell_type": "code",
      "execution_count": 58,
      "metadata": {
        "id": "GQJMHCcPHqL1"
      },
      "outputs": [],
      "source": [
        "with open(f'{DATA_PATH}/models_all_modals_notune.pkl', 'wb') as fl:\n",
        "    pickle.dump(models, fl)"
      ]
    },
    {
      "cell_type": "markdown",
      "metadata": {
        "id": "xUPw3WknnSOC"
      },
      "source": [
        "## Зафиты на разных модальностях"
      ]
    },
    {
      "cell_type": "markdown",
      "metadata": {
        "id": "TLY_Q6XbR0Ve"
      },
      "source": [
        "#### tsfresh amount"
      ]
    },
    {
      "cell_type": "code",
      "execution_count": null,
      "metadata": {
        "id": "kc5rqRaLcVF2"
      },
      "outputs": [],
      "source": [
        "with open('/content/drive/MyDrive/LCT_HACK/data/models_tsfresh_baseline.pkl', 'wb') as fl:\n",
        "    pickle.dump(models, fl)"
      ]
    },
    {
      "cell_type": "code",
      "execution_count": null,
      "metadata": {
        "id": "526_ArW1Sk_9"
      },
      "outputs": [],
      "source": [
        "metrics = {}\n",
        "\n",
        "for t in range(1, 5):\n",
        "    target_col = f'target_{t}'\n",
        "    tg = df_test[target_col]\n",
        "    X = df_test.drop(columns=[f'target_{i}' for i in range(1, 5)])\n",
        "    print(X.columns)\n",
        "    metrics[target_col] = roc_auc_score(tg, models[target_col].predict_proba(X)[:,1])\n",
        "    print(f'score test: {metrics[target_col]}')"
      ]
    },
    {
      "cell_type": "code",
      "execution_count": null,
      "metadata": {
        "colab": {
          "base_uri": "https://localhost:8080/"
        },
        "id": "dVv7Hpr8QOKF",
        "outputId": "d9af6537-065a-4e42-face-17d757686d2b"
      },
      "outputs": [
        {
          "name": "stdout",
          "output_type": "stream",
          "text": [
            "score test: 0.6939826011017063\n",
            "score test: 0.7279843444227005\n",
            "score test: 0.7805038225112574\n",
            "score test: 0.7813258851085368\n"
          ]
        }
      ],
      "source": [
        "metrics = {}\n",
        "\n",
        "for t in range(1, 5):\n",
        "    target_col = f'target_{t}'\n",
        "    tg = df_val[target_col]\n",
        "    X = df_val.drop(columns=[f'target_{i}' for i in range(1, 5)])\n",
        "    metrics[target_col] = roc_auc_score(tg, models[target_col].predict_proba(X)[:,1])\n",
        "    print(f'score test: {metrics[target_col]}')"
      ]
    },
    {
      "cell_type": "code",
      "execution_count": null,
      "metadata": {
        "colab": {
          "base_uri": "https://localhost:8080/"
        },
        "id": "ufs705SNU3Qp",
        "outputId": "0d04db8d-b1fd-44aa-897e-da21be0b878b"
      },
      "outputs": [
        {
          "data": {
            "text/plain": [
              "0.7459491632860503"
            ]
          },
          "execution_count": 119,
          "metadata": {},
          "output_type": "execute_result"
        }
      ],
      "source": [
        "(0.6939826011017063 + 0.7279843444227005 + 0.7805038225112574 + 0.7813258851085368) / 4"
      ]
    },
    {
      "cell_type": "markdown",
      "metadata": {
        "id": "c-dEsi9YR7P4"
      },
      "source": [
        "#### tsfresh amount + agr event_type + agr prev target"
      ]
    },
    {
      "cell_type": "code",
      "execution_count": null,
      "metadata": {
        "id": "GpLycRufToNF"
      },
      "outputs": [],
      "source": [
        "with open('/content/drive/MyDrive/LCT_HACK/data/models_tsfresh_baseline_tgt_cat.pkl', 'wb') as fl:\n",
        "    pickle.dump(models, fl)"
      ]
    },
    {
      "cell_type": "code",
      "execution_count": null,
      "metadata": {
        "id": "OFSzWXn-SE6_"
      },
      "outputs": [],
      "source": [
        "models = {}\n",
        "\n",
        "\n",
        "for t in range(1, 5):\n",
        "    target_col = f'target_{t}'\n",
        "    tg = df_fit[target_col]\n",
        "    X = df_fit.drop(columns=[f'target_{i}' for i in range(1, 5)])\n",
        "\n",
        "    lgbm = LGBMClassifier(class_weight='balanced', num_leaves=20, max_depth=1,\n",
        "                          learning_rate=0.003, n_estimators=1000, verbose=-1)\n",
        "    lgbm.fit(X, tg)\n",
        "    models[target_col] = lgbm\n",
        "    print(f'score train: {roc_auc_score(tg, lgbm.predict_proba(X)[:,1])}')"
      ]
    },
    {
      "cell_type": "code",
      "execution_count": null,
      "metadata": {
        "id": "lL48TuYbSFN_"
      },
      "outputs": [],
      "source": [
        "metrics = {}\n",
        "\n",
        "for t in range(1, 5):\n",
        "    target_col = f'target_{t}'\n",
        "    tg = df_test[target_col]\n",
        "    X = df_test.drop(columns=[f'target_{i}' for i in range(1, 5)])\n",
        "    print(X.columns)\n",
        "    metrics[target_col] = roc_auc_score(tg, models[target_col].predict_proba(X)[:,1])\n",
        "    print(f'score test: {metrics[target_col]}')"
      ]
    },
    {
      "cell_type": "code",
      "execution_count": null,
      "metadata": {
        "colab": {
          "base_uri": "https://localhost:8080/"
        },
        "id": "amN0sDH6SH_m",
        "outputId": "f514ff8d-2f6f-4768-f0aa-de1e005ad3e3"
      },
      "outputs": [
        {
          "name": "stdout",
          "output_type": "stream",
          "text": [
            "score test: 0.7234140179651063\n",
            "score test: 0.7422400617081149\n",
            "score test: 0.8374606103230638\n",
            "score test: 0.8451139467736085\n"
          ]
        }
      ],
      "source": [
        "metrics = {}\n",
        "\n",
        "for t in range(1, 5):\n",
        "    target_col = f'target_{t}'\n",
        "    tg = df_val[target_col]\n",
        "    X = df_val.drop(columns=[f'target_{i}' for i in range(1, 5)])\n",
        "    metrics[target_col] = roc_auc_score(tg, models[target_col].predict_proba(X)[:,1])\n",
        "    print(f'score test: {metrics[target_col]}')"
      ]
    },
    {
      "cell_type": "code",
      "execution_count": null,
      "metadata": {
        "colab": {
          "base_uri": "https://localhost:8080/"
        },
        "id": "eeQEklAvU-tw",
        "outputId": "402612ef-0c37-4ac0-e39f-b644a8fa3499"
      },
      "outputs": [
        {
          "data": {
            "text/plain": [
              "0.7870571591924733"
            ]
          },
          "execution_count": 122,
          "metadata": {},
          "output_type": "execute_result"
        }
      ],
      "source": [
        "(0.7234140179651063 + 0.7422400617081149 + 0.8374606103230638 + 0.8451139467736085) / 4"
      ]
    },
    {
      "cell_type": "markdown",
      "metadata": {
        "id": "BfGs_5tc43Tf"
      },
      "source": [
        "### + geo"
      ]
    },
    {
      "cell_type": "code",
      "execution_count": null,
      "metadata": {
        "id": "3gTHKFrl5j7L"
      },
      "outputs": [],
      "source": [
        "with open('/content/drive/MyDrive/LCT_HACK/data/models_tsfresh_baseline_tgt_cat_geo.pkl', 'wb') as fl:\n",
        "    pickle.dump(models, fl)"
      ]
    },
    {
      "cell_type": "code",
      "execution_count": null,
      "metadata": {
        "colab": {
          "base_uri": "https://localhost:8080/"
        },
        "id": "xtG-3p3145gU",
        "outputId": "ae214390-5517-40cf-fb86-b678f0084c22"
      },
      "outputs": [
        {
          "name": "stdout",
          "output_type": "stream",
          "text": [
            "score test: 0.7296561006506593\n",
            "score test: 0.7422400617081149\n",
            "score test: 0.8374606103230638\n",
            "score test: 0.8451139467736085\n"
          ]
        }
      ],
      "source": [
        "metrics = {}\n",
        "\n",
        "for t in range(1, 5):\n",
        "    target_col = f'target_{t}'\n",
        "    tg = df_val[target_col]\n",
        "    X = df_val.drop(columns=[f'target_{i}' for i in range(1, 5)])\n",
        "    metrics[target_col] = roc_auc_score(tg, models[target_col].predict_proba(X)[:,1])\n",
        "    print(f'score test: {metrics[target_col]}')"
      ]
    },
    {
      "cell_type": "code",
      "execution_count": null,
      "metadata": {
        "colab": {
          "base_uri": "https://localhost:8080/"
        },
        "id": "jh1vFP-Q6Myw",
        "outputId": "e5a56461-4160-495a-8f2f-729fe585e5e7"
      },
      "outputs": [
        {
          "data": {
            "text/plain": [
              "0.7886176798638616"
            ]
          },
          "execution_count": 95,
          "metadata": {},
          "output_type": "execute_result"
        }
      ],
      "source": [
        "(0.7296561006506593 + 0.7422400617081149 + 0.8374606103230638 + 0.8451139467736085) / 4"
      ]
    },
    {
      "cell_type": "markdown",
      "metadata": {
        "id": "jSmOtIxTX9du"
      },
      "source": [
        "### +embs"
      ]
    },
    {
      "cell_type": "code",
      "execution_count": null,
      "metadata": {
        "id": "gQqoAZmWYB2b"
      },
      "outputs": [],
      "source": [
        "models = {}\n",
        "\n",
        "\n",
        "for t in range(1, 5):\n",
        "    target_col = f'target_{t}'\n",
        "    tg = df_fit[target_col]\n",
        "    X = df_fit.drop(columns=[f'target_{i}' for i in range(1, 5)])\n",
        "\n",
        "    lgbm = LGBMClassifier(class_weight='balanced', verbose=-1)\n",
        "    lgbm.fit(X, tg)\n",
        "    models[target_col] = lgbm\n",
        "    print(f'score train: {roc_auc_score(tg, lgbm.predict_proba(X)[:,1])}')"
      ]
    },
    {
      "cell_type": "code",
      "execution_count": 5,
      "metadata": {
        "colab": {
          "base_uri": "https://localhost:8080/"
        },
        "id": "0U3-muU1YFuF",
        "outputId": "10237d71-16e9-4c3b-dad0-c9f96bef8e60"
      },
      "outputs": [
        {
          "name": "stdout",
          "output_type": "stream",
          "text": [
            "score test: 0.6195520479453371\n",
            "score test: 0.39039667461825245\n",
            "score test: 0.598032571266772\n",
            "score test: 0.5976544649389026\n"
          ]
        }
      ],
      "source": [
        "metrics = {}\n",
        "\n",
        "for t in range(1, 5):\n",
        "    target_col = f'target_{t}'\n",
        "    tg = df_val[target_col]\n",
        "    X = df_val.drop(columns=[f'target_{i}' for i in range(1, 5)])\n",
        "    metrics[target_col] = roc_auc_score(tg, models[target_col].predict_proba(X)[:,1])\n",
        "    print(f'score test: {metrics[target_col]}')"
      ]
    },
    {
      "cell_type": "code",
      "execution_count": null,
      "metadata": {
        "id": "QXTpkVx22HMw"
      },
      "outputs": [],
      "source": []
    },
    {
      "cell_type": "code",
      "execution_count": 7,
      "metadata": {
        "id": "7I8tUOQbdxk4"
      },
      "outputs": [],
      "source": [
        "#df_train = pd.read_parquet('/content/drive/MyDrive/LCT_HACK/data/df_train_50k_tr_geo_tg.parquet')\n",
        "scores = []\n",
        "\n",
        "for m in range(1, 5):\n",
        "    target_col = f'target_{t}'\n",
        "    tg = df_train[target_col]\n",
        "    X = df_train.drop(columns=[f'target_{i}' for i in range(1, 5)])\n",
        "    score = pd.Series(models[target_col].predict_proba(X)[:,1])\n",
        "    scores.append(score)"
      ]
    },
    {
      "cell_type": "code",
      "execution_count": null,
      "metadata": {
        "id": "8MVv_3oV5nNs"
      },
      "outputs": [],
      "source": [
        "#df_train = pd.read_parquet('/content/drive/MyDrive/LCT_HACK/data/df_train_50k_tr_geo_tg.parquet')\n",
        "scores = []\n",
        "\n",
        "for m in range(1, 5):\n",
        "    target_col = f'target_{t}'\n",
        "    tg = df_train[target_col]\n",
        "    X = df_train.drop(columns=[f'target_{i}' for i in range(1, 5)])\n",
        "    score = pd.Series(models[target_col].predict_proba(X)[:,1])\n",
        "    scores.append(score)\n",
        "\n",
        "scores = pd.concat(scores, axis=1)\n",
        "scores['client_id'] = df_train.reset_index().client_id\n",
        "scores['mon'] = df_train.reset_index().mon\n",
        "scores = scores.rename(columns={0: 'emb_pred_0', 1: 'emb_pred_1', 2: 'emb_pred_2', 3: 'emb_pred_3'})"
      ]
    },
    {
      "cell_type": "code",
      "execution_count": null,
      "metadata": {
        "id": "BB1Tb29QfRxv"
      },
      "outputs": [],
      "source": [
        "scores = pd.concat(scores, axis=1)\n",
        "scores['client_id'] = df_train.reset_index().client_id\n",
        "scores['mon'] = df_train.reset_index().mon\n",
        "scores = scores.rename(columns={0: 'emb_pred_0', 1: 'emb_pred_1', 2: 'emb_pred_2', 3: 'emb_pred_3'})"
      ]
    },
    {
      "cell_type": "code",
      "execution_count": 14,
      "metadata": {
        "colab": {
          "base_uri": "https://localhost:8080/",
          "height": 204
        },
        "id": "lsqI9v7ofk8O",
        "outputId": "cddb6c47-b0d3-4af7-80f7-0b584edb64de"
      },
      "outputs": [
        {
          "data": {
            "application/vnd.google.colaboratory.intrinsic+json": {
              "summary": "{\n  \"name\": \"pd\",\n  \"rows\": 5,\n  \"fields\": [\n    {\n      \"column\": 0,\n      \"properties\": {\n        \"dtype\": \"number\",\n        \"std\": 0.0,\n        \"min\": 0.36687495260706277,\n        \"max\": 0.36687495260706277,\n        \"num_unique_values\": 1,\n        \"samples\": [\n          0.36687495260706277\n        ],\n        \"semantic_type\": \"\",\n        \"description\": \"\"\n      }\n    },\n    {\n      \"column\": 1,\n      \"properties\": {\n        \"dtype\": \"number\",\n        \"std\": 0.0,\n        \"min\": 0.36687495260706277,\n        \"max\": 0.36687495260706277,\n        \"num_unique_values\": 1,\n        \"samples\": [\n          0.36687495260706277\n        ],\n        \"semantic_type\": \"\",\n        \"description\": \"\"\n      }\n    },\n    {\n      \"column\": 2,\n      \"properties\": {\n        \"dtype\": \"number\",\n        \"std\": 0.0,\n        \"min\": 0.36687495260706277,\n        \"max\": 0.36687495260706277,\n        \"num_unique_values\": 1,\n        \"samples\": [\n          0.36687495260706277\n        ],\n        \"semantic_type\": \"\",\n        \"description\": \"\"\n      }\n    },\n    {\n      \"column\": 3,\n      \"properties\": {\n        \"dtype\": \"number\",\n        \"std\": 0.0,\n        \"min\": 0.36687495260706277,\n        \"max\": 0.36687495260706277,\n        \"num_unique_values\": 1,\n        \"samples\": [\n          0.36687495260706277\n        ],\n        \"semantic_type\": \"\",\n        \"description\": \"\"\n      }\n    }\n  ]\n}",
              "type": "dataframe"
            },
            "text/html": [
              "\n",
              "  <div id=\"df-995c61c2-fa72-4ef0-b0a9-37aeaae2bae1\" class=\"colab-df-container\">\n",
              "    <div>\n",
              "<style scoped>\n",
              "    .dataframe tbody tr th:only-of-type {\n",
              "        vertical-align: middle;\n",
              "    }\n",
              "\n",
              "    .dataframe tbody tr th {\n",
              "        vertical-align: top;\n",
              "    }\n",
              "\n",
              "    .dataframe thead th {\n",
              "        text-align: right;\n",
              "    }\n",
              "</style>\n",
              "<table border=\"1\" class=\"dataframe\">\n",
              "  <thead>\n",
              "    <tr style=\"text-align: right;\">\n",
              "      <th></th>\n",
              "      <th>0</th>\n",
              "      <th>1</th>\n",
              "      <th>2</th>\n",
              "      <th>3</th>\n",
              "    </tr>\n",
              "  </thead>\n",
              "  <tbody>\n",
              "    <tr>\n",
              "      <th>0</th>\n",
              "      <td>0.366875</td>\n",
              "      <td>0.366875</td>\n",
              "      <td>0.366875</td>\n",
              "      <td>0.366875</td>\n",
              "    </tr>\n",
              "    <tr>\n",
              "      <th>1</th>\n",
              "      <td>0.366875</td>\n",
              "      <td>0.366875</td>\n",
              "      <td>0.366875</td>\n",
              "      <td>0.366875</td>\n",
              "    </tr>\n",
              "    <tr>\n",
              "      <th>2</th>\n",
              "      <td>0.366875</td>\n",
              "      <td>0.366875</td>\n",
              "      <td>0.366875</td>\n",
              "      <td>0.366875</td>\n",
              "    </tr>\n",
              "    <tr>\n",
              "      <th>3</th>\n",
              "      <td>0.366875</td>\n",
              "      <td>0.366875</td>\n",
              "      <td>0.366875</td>\n",
              "      <td>0.366875</td>\n",
              "    </tr>\n",
              "    <tr>\n",
              "      <th>4</th>\n",
              "      <td>0.366875</td>\n",
              "      <td>0.366875</td>\n",
              "      <td>0.366875</td>\n",
              "      <td>0.366875</td>\n",
              "    </tr>\n",
              "  </tbody>\n",
              "</table>\n",
              "</div>\n",
              "    <div class=\"colab-df-buttons\">\n",
              "\n",
              "  <div class=\"colab-df-container\">\n",
              "    <button class=\"colab-df-convert\" onclick=\"convertToInteractive('df-995c61c2-fa72-4ef0-b0a9-37aeaae2bae1')\"\n",
              "            title=\"Convert this dataframe to an interactive table.\"\n",
              "            style=\"display:none;\">\n",
              "\n",
              "  <svg xmlns=\"http://www.w3.org/2000/svg\" height=\"24px\" viewBox=\"0 -960 960 960\">\n",
              "    <path d=\"M120-120v-720h720v720H120Zm60-500h600v-160H180v160Zm220 220h160v-160H400v160Zm0 220h160v-160H400v160ZM180-400h160v-160H180v160Zm440 0h160v-160H620v160ZM180-180h160v-160H180v160Zm440 0h160v-160H620v160Z\"/>\n",
              "  </svg>\n",
              "    </button>\n",
              "\n",
              "  <style>\n",
              "    .colab-df-container {\n",
              "      display:flex;\n",
              "      gap: 12px;\n",
              "    }\n",
              "\n",
              "    .colab-df-convert {\n",
              "      background-color: #E8F0FE;\n",
              "      border: none;\n",
              "      border-radius: 50%;\n",
              "      cursor: pointer;\n",
              "      display: none;\n",
              "      fill: #1967D2;\n",
              "      height: 32px;\n",
              "      padding: 0 0 0 0;\n",
              "      width: 32px;\n",
              "    }\n",
              "\n",
              "    .colab-df-convert:hover {\n",
              "      background-color: #E2EBFA;\n",
              "      box-shadow: 0px 1px 2px rgba(60, 64, 67, 0.3), 0px 1px 3px 1px rgba(60, 64, 67, 0.15);\n",
              "      fill: #174EA6;\n",
              "    }\n",
              "\n",
              "    .colab-df-buttons div {\n",
              "      margin-bottom: 4px;\n",
              "    }\n",
              "\n",
              "    [theme=dark] .colab-df-convert {\n",
              "      background-color: #3B4455;\n",
              "      fill: #D2E3FC;\n",
              "    }\n",
              "\n",
              "    [theme=dark] .colab-df-convert:hover {\n",
              "      background-color: #434B5C;\n",
              "      box-shadow: 0px 1px 3px 1px rgba(0, 0, 0, 0.15);\n",
              "      filter: drop-shadow(0px 1px 2px rgba(0, 0, 0, 0.3));\n",
              "      fill: #FFFFFF;\n",
              "    }\n",
              "  </style>\n",
              "\n",
              "    <script>\n",
              "      const buttonEl =\n",
              "        document.querySelector('#df-995c61c2-fa72-4ef0-b0a9-37aeaae2bae1 button.colab-df-convert');\n",
              "      buttonEl.style.display =\n",
              "        google.colab.kernel.accessAllowed ? 'block' : 'none';\n",
              "\n",
              "      async function convertToInteractive(key) {\n",
              "        const element = document.querySelector('#df-995c61c2-fa72-4ef0-b0a9-37aeaae2bae1');\n",
              "        const dataTable =\n",
              "          await google.colab.kernel.invokeFunction('convertToInteractive',\n",
              "                                                    [key], {});\n",
              "        if (!dataTable) return;\n",
              "\n",
              "        const docLinkHtml = 'Like what you see? Visit the ' +\n",
              "          '<a target=\"_blank\" href=https://colab.research.google.com/notebooks/data_table.ipynb>data table notebook</a>'\n",
              "          + ' to learn more about interactive tables.';\n",
              "        element.innerHTML = '';\n",
              "        dataTable['output_type'] = 'display_data';\n",
              "        await google.colab.output.renderOutput(dataTable, element);\n",
              "        const docLink = document.createElement('div');\n",
              "        docLink.innerHTML = docLinkHtml;\n",
              "        element.appendChild(docLink);\n",
              "      }\n",
              "    </script>\n",
              "  </div>\n",
              "\n",
              "\n",
              "<div id=\"df-a4ca8d2f-2197-419c-94a5-72f0917fb0d1\">\n",
              "  <button class=\"colab-df-quickchart\" onclick=\"quickchart('df-a4ca8d2f-2197-419c-94a5-72f0917fb0d1')\"\n",
              "            title=\"Suggest charts\"\n",
              "            style=\"display:none;\">\n",
              "\n",
              "<svg xmlns=\"http://www.w3.org/2000/svg\" height=\"24px\"viewBox=\"0 0 24 24\"\n",
              "     width=\"24px\">\n",
              "    <g>\n",
              "        <path d=\"M19 3H5c-1.1 0-2 .9-2 2v14c0 1.1.9 2 2 2h14c1.1 0 2-.9 2-2V5c0-1.1-.9-2-2-2zM9 17H7v-7h2v7zm4 0h-2V7h2v10zm4 0h-2v-4h2v4z\"/>\n",
              "    </g>\n",
              "</svg>\n",
              "  </button>\n",
              "\n",
              "<style>\n",
              "  .colab-df-quickchart {\n",
              "      --bg-color: #E8F0FE;\n",
              "      --fill-color: #1967D2;\n",
              "      --hover-bg-color: #E2EBFA;\n",
              "      --hover-fill-color: #174EA6;\n",
              "      --disabled-fill-color: #AAA;\n",
              "      --disabled-bg-color: #DDD;\n",
              "  }\n",
              "\n",
              "  [theme=dark] .colab-df-quickchart {\n",
              "      --bg-color: #3B4455;\n",
              "      --fill-color: #D2E3FC;\n",
              "      --hover-bg-color: #434B5C;\n",
              "      --hover-fill-color: #FFFFFF;\n",
              "      --disabled-bg-color: #3B4455;\n",
              "      --disabled-fill-color: #666;\n",
              "  }\n",
              "\n",
              "  .colab-df-quickchart {\n",
              "    background-color: var(--bg-color);\n",
              "    border: none;\n",
              "    border-radius: 50%;\n",
              "    cursor: pointer;\n",
              "    display: none;\n",
              "    fill: var(--fill-color);\n",
              "    height: 32px;\n",
              "    padding: 0;\n",
              "    width: 32px;\n",
              "  }\n",
              "\n",
              "  .colab-df-quickchart:hover {\n",
              "    background-color: var(--hover-bg-color);\n",
              "    box-shadow: 0 1px 2px rgba(60, 64, 67, 0.3), 0 1px 3px 1px rgba(60, 64, 67, 0.15);\n",
              "    fill: var(--button-hover-fill-color);\n",
              "  }\n",
              "\n",
              "  .colab-df-quickchart-complete:disabled,\n",
              "  .colab-df-quickchart-complete:disabled:hover {\n",
              "    background-color: var(--disabled-bg-color);\n",
              "    fill: var(--disabled-fill-color);\n",
              "    box-shadow: none;\n",
              "  }\n",
              "\n",
              "  .colab-df-spinner {\n",
              "    border: 2px solid var(--fill-color);\n",
              "    border-color: transparent;\n",
              "    border-bottom-color: var(--fill-color);\n",
              "    animation:\n",
              "      spin 1s steps(1) infinite;\n",
              "  }\n",
              "\n",
              "  @keyframes spin {\n",
              "    0% {\n",
              "      border-color: transparent;\n",
              "      border-bottom-color: var(--fill-color);\n",
              "      border-left-color: var(--fill-color);\n",
              "    }\n",
              "    20% {\n",
              "      border-color: transparent;\n",
              "      border-left-color: var(--fill-color);\n",
              "      border-top-color: var(--fill-color);\n",
              "    }\n",
              "    30% {\n",
              "      border-color: transparent;\n",
              "      border-left-color: var(--fill-color);\n",
              "      border-top-color: var(--fill-color);\n",
              "      border-right-color: var(--fill-color);\n",
              "    }\n",
              "    40% {\n",
              "      border-color: transparent;\n",
              "      border-right-color: var(--fill-color);\n",
              "      border-top-color: var(--fill-color);\n",
              "    }\n",
              "    60% {\n",
              "      border-color: transparent;\n",
              "      border-right-color: var(--fill-color);\n",
              "    }\n",
              "    80% {\n",
              "      border-color: transparent;\n",
              "      border-right-color: var(--fill-color);\n",
              "      border-bottom-color: var(--fill-color);\n",
              "    }\n",
              "    90% {\n",
              "      border-color: transparent;\n",
              "      border-bottom-color: var(--fill-color);\n",
              "    }\n",
              "  }\n",
              "</style>\n",
              "\n",
              "  <script>\n",
              "    async function quickchart(key) {\n",
              "      const quickchartButtonEl =\n",
              "        document.querySelector('#' + key + ' button');\n",
              "      quickchartButtonEl.disabled = true;  // To prevent multiple clicks.\n",
              "      quickchartButtonEl.classList.add('colab-df-spinner');\n",
              "      try {\n",
              "        const charts = await google.colab.kernel.invokeFunction(\n",
              "            'suggestCharts', [key], {});\n",
              "      } catch (error) {\n",
              "        console.error('Error during call to suggestCharts:', error);\n",
              "      }\n",
              "      quickchartButtonEl.classList.remove('colab-df-spinner');\n",
              "      quickchartButtonEl.classList.add('colab-df-quickchart-complete');\n",
              "    }\n",
              "    (() => {\n",
              "      let quickchartButtonEl =\n",
              "        document.querySelector('#df-a4ca8d2f-2197-419c-94a5-72f0917fb0d1 button');\n",
              "      quickchartButtonEl.style.display =\n",
              "        google.colab.kernel.accessAllowed ? 'block' : 'none';\n",
              "    })();\n",
              "  </script>\n",
              "</div>\n",
              "    </div>\n",
              "  </div>\n"
            ],
            "text/plain": [
              "          0         1         2         3\n",
              "0  0.366875  0.366875  0.366875  0.366875\n",
              "1  0.366875  0.366875  0.366875  0.366875\n",
              "2  0.366875  0.366875  0.366875  0.366875\n",
              "3  0.366875  0.366875  0.366875  0.366875\n",
              "4  0.366875  0.366875  0.366875  0.366875"
            ]
          },
          "execution_count": 14,
          "metadata": {},
          "output_type": "execute_result"
        }
      ],
      "source": [
        "scores.to_parquet('/content/drive/MyDrive/LCT_HACK/data/df_train_50k_scores_emb.parquet')"
      ]
    },
    {
      "cell_type": "code",
      "execution_count": 32,
      "metadata": {
        "colab": {
          "base_uri": "https://localhost:8080/"
        },
        "id": "R78SwQGvvlMM",
        "outputId": "d270cb17-34c8-43e6-d6d4-1725766da43c"
      },
      "outputs": [
        {
          "name": "stdout",
          "output_type": "stream",
          "text": [
            "score train: 0.7856632857234682\n",
            "score train: 0.8572498547201863\n",
            "score train: 0.8205154826279076\n",
            "score train: 0.9081808960928115\n"
          ]
        }
      ],
      "source": [
        "models = {}\n",
        "\n",
        "\n",
        "for t in range(1, 5):\n",
        "    target_col = f'target_{t}'\n",
        "    tg = df_fit[target_col]\n",
        "    X = df_fit.drop(columns=[f'target_{i}' for i in range(1, 5)])\n",
        "\n",
        "    lgbm = LGBMClassifier(class_weight='balanced', num_leaves=20, max_depth=1,\n",
        "                          learning_rate=0.003, n_estimators=1000, verbose=-1)\n",
        "    lgbm.fit(X, tg)\n",
        "    models[target_col] = lgbm\n",
        "    print(f'score train: {roc_auc_score(tg, lgbm.predict_proba(X)[:,1])}')"
      ]
    },
    {
      "cell_type": "code",
      "execution_count": 33,
      "metadata": {
        "colab": {
          "base_uri": "https://localhost:8080/"
        },
        "id": "ICayvqrNvrvY",
        "outputId": "66854706-91f5-4fb1-d484-805fa41e6532"
      },
      "outputs": [
        {
          "name": "stdout",
          "output_type": "stream",
          "text": [
            "score test: 0.7955257576630007\n",
            "score test: 0.7428685702858286\n",
            "score test: 0.8435903290921878\n",
            "score test: 0.7902584268972175\n"
          ]
        }
      ],
      "source": [
        "metrics = {}\n",
        "\n",
        "for t in range(1, 5):\n",
        "    target_col = f'target_{t}'\n",
        "    tg = df_val[target_col]\n",
        "    X = df_val.drop(columns=[f'target_{i}' for i in range(1, 5)])\n",
        "    metrics[target_col] = roc_auc_score(tg, models[target_col].predict_proba(X)[:,1])\n",
        "    print(f'score test: {metrics[target_col]}')"
      ]
    },
    {
      "cell_type": "code",
      "execution_count": 34,
      "metadata": {
        "colab": {
          "base_uri": "https://localhost:8080/"
        },
        "id": "F-Xv5K13wyo3",
        "outputId": "f0fa07ae-66cf-4f1e-e3b6-55d272c8b451"
      },
      "outputs": [
        {
          "data": {
            "text/plain": [
              "0.7930607709845587"
            ]
          },
          "execution_count": 34,
          "metadata": {},
          "output_type": "execute_result"
        }
      ],
      "source": [
        "sum(metrics.values()) / 4"
      ]
    },
    {
      "cell_type": "code",
      "execution_count": null,
      "metadata": {
        "id": "Z6HLiGHMxbTO"
      },
      "outputs": [],
      "source": []
    },
    {
      "cell_type": "code",
      "execution_count": 54,
      "metadata": {
        "colab": {
          "base_uri": "https://localhost:8080/"
        },
        "id": "xtup50zpxbVy",
        "outputId": "d1ad78bc-d174-4ee4-eb1e-0c8272531aa9"
      },
      "outputs": [
        {
          "name": "stdout",
          "output_type": "stream",
          "text": [
            "score train: 0.7856632857234682\n",
            "score train: 0.8572498547201863\n",
            "score train: 0.8205154826279076\n",
            "score train: 0.9081808960928115\n"
          ]
        }
      ],
      "source": [
        "models = {}\n",
        "\n",
        "\n",
        "for t in range(1, 5):\n",
        "    target_col = f'target_{t}'\n",
        "    tg = df_fit[target_col]\n",
        "    X = df_fit.drop(columns=[f'target_{i}' for i in range(1, 5)])\n",
        "\n",
        "    lgbm = LGBMClassifier(class_weight='balanced', max_depth=1,\n",
        "                          learning_rate=0.003, n_estimators=1000, verbose=-1)\n",
        "    lgbm.fit(X, tg)\n",
        "    models[target_col] = lgbm\n",
        "    print(f'score train: {roc_auc_score(tg, lgbm.predict_proba(X)[:,1])}')"
      ]
    },
    {
      "cell_type": "code",
      "execution_count": 55,
      "metadata": {
        "colab": {
          "base_uri": "https://localhost:8080/"
        },
        "id": "_2v-rswuxs0w",
        "outputId": "ec2f9066-2a8a-43f1-8be5-9d203e7af5e6"
      },
      "outputs": [
        {
          "name": "stdout",
          "output_type": "stream",
          "text": [
            "score test: 0.7955257576630007\n",
            "score test: 0.7428685702858286\n",
            "score test: 0.8435903290921878\n",
            "score test: 0.7902584268972175\n"
          ]
        }
      ],
      "source": [
        "metrics = {}\n",
        "\n",
        "for t in range(1, 5):\n",
        "    target_col = f'target_{t}'\n",
        "    tg = df_val[target_col]\n",
        "    X = df_val.drop(columns=[f'target_{i}' for i in range(1, 5)])\n",
        "    metrics[target_col] = roc_auc_score(tg, models[target_col].predict_proba(X)[:,1])\n",
        "    print(f'score test: {metrics[target_col]}')"
      ]
    },
    {
      "cell_type": "code",
      "execution_count": 56,
      "metadata": {
        "colab": {
          "base_uri": "https://localhost:8080/"
        },
        "id": "XiBGnC7FyULz",
        "outputId": "ab73beb7-7340-45da-f87c-4f6c3c860100"
      },
      "outputs": [
        {
          "data": {
            "text/plain": [
              "0.7930607709845587"
            ]
          },
          "execution_count": 56,
          "metadata": {},
          "output_type": "execute_result"
        }
      ],
      "source": [
        "sum(metrics.values()) / 4"
      ]
    },
    {
      "cell_type": "code",
      "execution_count": null,
      "metadata": {
        "id": "2hARadHJ15mD"
      },
      "outputs": [],
      "source": [
        "with open('/content/drive/MyDrive/LCT_HACK/data/models_tsfresh_baseline_tgt_cat_geo_embs.pkl', 'wb') as fl:\n",
        "    pickle.dump(models, fl)"
      ]
    },
    {
      "cell_type": "markdown",
      "metadata": {
        "id": "t-W-6-VLboV6"
      },
      "source": [
        "## Score FULL test"
      ]
    },
    {
      "cell_type": "code",
      "execution_count": 1,
      "metadata": {
        "id": "zPISdND5cvYb"
      },
      "outputs": [],
      "source": [
        "from tsfresh import extract_features\n",
        "from tsfresh.feature_extraction.settings import MinimalFCParameters\n",
        "from lightgbm import LGBMClassifier, Dataset\n",
        "import lightgbm\n",
        "import pandas as pd\n",
        "from sklearn.model_selection import train_test_split\n",
        "from sklearn.metrics import roc_auc_score\n",
        "\n",
        "from datetime import datetime\n",
        "import pickle\n",
        "import gc\n",
        "\n",
        "DATA_PATH = '/content/drive/MyDrive/LCT_HACK/data'"
      ]
    },
    {
      "cell_type": "code",
      "execution_count": 2,
      "metadata": {
        "id": "VqsBazNhrREt"
      },
      "outputs": [],
      "source": [
        "target_test = pd.read_parquet(f\"{DATA_PATH}/test_target_070.parquet\")\n",
        "target_test.mon = pd.to_datetime(target_test.mon)\n",
        "\n",
        "lm = pd.DataFrame(target_test.client_id.unique(), columns=['client_id'])\n",
        "lm['mon'] = pd.Timestamp('2023-01-01')\n",
        "for t in range(1, 5):\n",
        "    lm[f'target_{t}'] = -999\n",
        "\n",
        "target_test = pd.concat([target_test, lm], axis=0)\n",
        "\n",
        "# dialogs_test = pd.read_parquet(f\"{DATA_PATH}/dial_test.parquet\")\n",
        "# transactions_test = pd.read_parquet(f\"{DATA_PATH}/trx_test.parquet\")\n",
        "# geo_test = pd.read_parquet(f\"{DATA_PATH}/geo_test.parquet\")"
      ]
    },
    {
      "cell_type": "code",
      "execution_count": 7,
      "metadata": {
        "colab": {
          "base_uri": "https://localhost:8080/"
        },
        "id": "Mpj7wMpXrwox",
        "outputId": "7d814948-6c5f-45f3-87dd-bdc739879ef2"
      },
      "outputs": [
        {
          "data": {
            "text/plain": [
              "0"
            ]
          },
          "execution_count": 7,
          "metadata": {},
          "output_type": "execute_result"
        }
      ],
      "source": [
        "geo_test = []\n",
        "\n",
        "names = [f'part-{i}.parquet' for i in range(0, 6)]\n",
        "\n",
        "def geo_agr(tg, geo_tokens, top_n=3):\n",
        "    geo = []\n",
        "    for mon in [pd.Timestamp('2023-01-01')]:\n",
        "        geo_counts = geo_tokens[geo_tokens.event_time < mon]\n",
        "        geo_counts = geo_counts.groupby(['client_id', 'geo_token']).count().reset_index()\n",
        "        geo_counts = geo_counts.sort_values(['client_id', 'event_time'], ascending=[False, False]).reset_index(drop=True)\n",
        "        geo_counts['n'] = geo_counts.groupby('client_id').cumcount() + 1\n",
        "        geo_counts = geo_counts[geo_counts.n <= top_n].groupby('client_id').geo_token.apply(list).reset_index()\n",
        "        geo_counts[[f'geo_top_{i}' for i in range(1, top_n + 1)]] = pd.DataFrame(geo_counts.geo_token.to_list())\n",
        "        geo_counts['mon'] = mon\n",
        "        geo.append(geo_counts[['client_id', 'mon'] + [f'geo_top_{i}' for i in range(1, top_n + 1)]])\n",
        "        gc.collect()\n",
        "\n",
        "    geo = pd.concat(geo, axis=0)\n",
        "    gc.collect()\n",
        "    return geo\n",
        "\n",
        "\n",
        "def geo_tokenizer(df, geo_places):\n",
        "    df.loc[df.geohash_4.isin(geo_places[0]), 'geo_token'] = df[df.geohash_4.isin(geo_places[0])].geohash_4\n",
        "    df.loc[df.geohash_5.isin(geo_places[1]), 'geo_token'] = df[df.geohash_5.isin(geo_places[1])].geohash_5\n",
        "    df.loc[df.geohash_6.isin(geo_places[2]), 'geo_token'] = df[df.geohash_6.isin(geo_places[2])].geohash_6\n",
        "\n",
        "    # самые редки места, либо в одно, либо убрать такие записи\n",
        "    df.loc[df.geo_token.isna(), 'geo_token'] = -999\n",
        "    gc.collect()\n",
        "    return df[['client_id', 'event_time', 'geo_token']]\n",
        "\n",
        "geo_places = pd.read_pickle(f'{DATA_PATH}/geo_places.pkl')\n",
        "\n",
        "# for name in names:\n",
        "#     geo_pt = pd.read_parquet(f\"{DATA_PATH}/geo_test.parquet/{name}\")\n",
        "#     geo_pt = geo_tokenizer(geo_pt, geo_places)\n",
        "#     geo_pt = geo_pt[geo_pt.geo_token != -999].reset_index(drop=True)\n",
        "#     geo_test.append(geo_pt)\n",
        "#     gc.collect()\n",
        "\n",
        "# geo_test = pd.concat(geo_test, axis=0)\n",
        "\n",
        "# with open(f'{DATA_PATH}/geo_tokens_test.pkl', 'wb') as fl:\n",
        "#     pickle.dump(geo_test, fl)\n",
        "\n",
        "\n",
        "#geo_test = pd.read_pickle(f\"{DATA_PATH}/geo_tokens_test.pkl\")\n",
        "\n",
        "geo_test = pd.read_parquet(f\"{DATA_PATH}/geo_test_070.parquet\")\n",
        "geo_test = geo_tokenizer(geo_test, geo_places)\n",
        "geo_test = geo_test[geo_test.geo_token != -999].reset_index(drop=True)\n",
        "\n",
        "geo_feat_test = geo_agr(target_test, geo_test, top_n=3)\n",
        "\n",
        "with open(f'{DATA_PATH}/geo_feats_test.pkl', 'wb') as fl:\n",
        "    pickle.dump(geo_feat_test, fl)\n",
        "\n",
        "del geo_test\n",
        "del geo_feat_test\n",
        "gc.collect()"
      ]
    },
    {
      "cell_type": "code",
      "execution_count": 8,
      "metadata": {
        "colab": {
          "base_uri": "https://localhost:8080/"
        },
        "id": "CO9SMMXEuqyu",
        "outputId": "da52f351-75df-446f-bcee-f6f664034aa0"
      },
      "outputs": [
        {
          "data": {
            "text/plain": [
              "0"
            ]
          },
          "execution_count": 8,
          "metadata": {},
          "output_type": "execute_result"
        }
      ],
      "source": [
        "models_emb = pd.read_pickle(f'{DATA_PATH}/models_embs_baseline.pkl')\n",
        "dialogs_test = pd.read_parquet(f\"{DATA_PATH}/dial_test_070.parquet\")\n",
        "\n",
        "\n",
        "def dial_agr(tg, dialogs_emb):\n",
        "    dialogs = []\n",
        "    for mon in [pd.Timestamp('2023-01-01')]:\n",
        "        dialogs_mon = dialogs_emb[dialogs_emb.event_time < mon]\n",
        "        dialogs_mon = dialogs_mon[['client_id', 'embedding']].groupby('client_id').mean().reset_index()\n",
        "        dialogs_mon['mon'] = mon\n",
        "        dialogs_mon = pd.concat([dialogs_mon,\n",
        "                                 pd.DataFrame(dialogs_mon.embedding.to_list(), columns=[f'emb_{i}' for i in range(1, 769)])],\n",
        "                                 axis=1)\n",
        "        dialogs.append(dialogs_mon[['client_id', 'mon'] + [f'emb_{i}' for i in range(1, 769)]])\n",
        "\n",
        "    dialogs = pd.concat(dialogs, axis=0)\n",
        "    gc.collect()\n",
        "    return dialogs\n",
        "\n",
        "dialogs_test = dial_agr(target_test, dialogs_test)\n",
        "dialogs_test = target_test.set_index(['mon', 'client_id'])\\\n",
        ".join(dialogs_test.set_index(['mon', 'client_id']), how='left')\n",
        "\n",
        "\n",
        "\n",
        "scores = []\n",
        "\n",
        "for t in range(1, 5):\n",
        "    target_col = f'target_{t}'\n",
        "    tg = dialogs_test[target_col]\n",
        "    X = dialogs_test.drop(columns=[f'target_{i}' for i in range(1, 5)])\n",
        "    score = pd.Series(models_emb[target_col].predict(X))\n",
        "    scores.append(score)\n",
        "    gc.collect()\n",
        "\n",
        "scores = pd.concat(scores, axis=1)\n",
        "scores['client_id'] = dialogs_test.reset_index().client_id\n",
        "scores['mon'] = dialogs_test.reset_index().mon\n",
        "scores = scores.rename(columns={0: 'emb_pred_0', 1: 'emb_pred_1', 2: 'emb_pred_2', 3: 'emb_pred_3'})\n",
        "\n",
        "with open(f'{DATA_PATH}/scores_embs_test.pkl', 'wb') as fl:\n",
        "    pickle.dump(scores, fl)\n",
        "\n",
        "del dialogs_test\n",
        "del scores\n",
        "gc.collect()"
      ]
    },
    {
      "cell_type": "code",
      "execution_count": 3,
      "metadata": {
        "colab": {
          "base_uri": "https://localhost:8080/"
        },
        "id": "tt2QIY3fvutg",
        "outputId": "5b7f3fd2-a406-40ca-f62b-7317da718292"
      },
      "outputs": [
        {
          "name": "stderr",
          "output_type": "stream",
          "text": [
            "WARNING:tsfresh.feature_extraction.settings:Dependency not available for matrix_profile, this feature will be disabled!\n",
            "Feature Extraction: 100%|██████████| 44023/44023 [01:10<00:00, 627.36it/s]\n"
          ]
        },
        {
          "data": {
            "text/plain": [
              "0"
            ]
          },
          "execution_count": 3,
          "metadata": {},
          "output_type": "execute_result"
        }
      ],
      "source": [
        "transactions_test = pd.read_parquet(f\"{DATA_PATH}/trx_test_070.parquet\")[['client_id', 'event_time', 'amount', 'event_type']]\n",
        "enc = pd.read_pickle(f'{DATA_PATH}/ohe.pkl')\n",
        "\n",
        "extraction_settings = MinimalFCParameters()\n",
        "\n",
        "def tsfresh_feats(tg, timeseries, cols, ohe=None):\n",
        "\n",
        "    tgts = [f'target_{i}' for i in range(1, 5)]\n",
        "    feats = []\n",
        "    feats_tgts = []\n",
        "\n",
        "    for mon in [pd.Timestamp('2023-01-01')]:\n",
        "        tg_mon = tg[tg.mon < mon]\n",
        "        trans = timeseries[timeseries.event_time < mon]\n",
        "        feats_mon = extract_features(trans[['client_id', 'event_time'] + cols], \\\n",
        "                                     column_id=\"client_id\", column_sort=\"event_time\", \\\n",
        "                                     default_fc_parameters=extraction_settings)\n",
        "\n",
        "        feats_mon_tgts = tg_mon[['client_id'] + tgts].groupby('client_id').sum()[tgts]\n",
        "        feats_mon_tgts['mon'] = mon\n",
        "        rename_dct = {'index': 'client_id'}\n",
        "        rename_dct.update({tgt: tgt + '_sum' for tgt in tgts})\n",
        "        feats_tgts.append(feats_mon_tgts.reset_index().rename(columns=rename_dct))\n",
        "\n",
        "        if ohe:\n",
        "            ohe_cols = list(ohe.get_feature_names_out())\n",
        "            trans_cat = pd.DataFrame(ohe.transform(trans[list(ohe.feature_names_in_)]).toarray(),\\\n",
        "                   columns=ohe_cols)\n",
        "            trans_cat['client_id'] = trans.reset_index().client_id\n",
        "            trans_cat = trans_cat[ohe_cols + ['client_id']]\\\n",
        "            .groupby('client_id').sum()\n",
        "            feats_mon = pd.concat([feats_mon, trans_cat], axis=1)\n",
        "        feats_mon['mon'] = mon\n",
        "        feats.append(feats_mon.reset_index().rename(columns={'index': 'client_id'}))\n",
        "        gc.collect()\n",
        "\n",
        "    feats = pd.concat(feats, axis=0)\n",
        "    feats_tgts = pd.concat(feats_tgts, axis=0)\n",
        "    gc.collect()\n",
        "    return feats, feats_tgts\n",
        "\n",
        "\n",
        "cols = ['amount']\n",
        "\n",
        "feats_test, feats_test_tgts = tsfresh_feats(target_test, transactions_test, cols, enc)\n",
        "\n",
        "with open(f'{DATA_PATH}/feats_test.pkl', 'wb') as fl:\n",
        "    pickle.dump(feats_test, fl)\n",
        "\n",
        "with open(f'{DATA_PATH}/feats_test_tgts.pkl', 'wb') as fl:\n",
        "    pickle.dump(feats_test_tgts, fl)\n",
        "\n",
        "\n",
        "del feats_test\n",
        "del feats_test_tgts\n",
        "gc.collect()"
      ]
    },
    {
      "cell_type": "code",
      "execution_count": 4,
      "metadata": {
        "colab": {
          "base_uri": "https://localhost:8080/"
        },
        "id": "Udskf8p8cyl3",
        "outputId": "c1bbb11f-deb1-4421-dc9f-d12058e68a5d"
      },
      "outputs": [
        {
          "data": {
            "text/plain": [
              "0"
            ]
          },
          "execution_count": 4,
          "metadata": {},
          "output_type": "execute_result"
        }
      ],
      "source": [
        "models_fin = pd.read_pickle(f'{DATA_PATH}/models_all_modals_notune.pkl')\n",
        "\n",
        "target_test = pd.read_parquet(f\"{DATA_PATH}/test_target_070.parquet\")\n",
        "target_test = pd.DataFrame(target_test.client_id.unique(), columns=['client_id'])\n",
        "target_test['mon'] = pd.Timestamp('2023-01-01')\n",
        "\n",
        "feats_test = pd.read_pickle(f'{DATA_PATH}/feats_test.pkl')\n",
        "feats_test_tgts = pd.read_pickle(f'{DATA_PATH}/feats_test_tgts.pkl')\n",
        "scores_embs_test = pd.read_pickle(f'{DATA_PATH}/scores_embs_test.pkl')\n",
        "geo_feats_test = pd.read_pickle(f'{DATA_PATH}/geo_feats_test.pkl')\n",
        "\n",
        "\n",
        "df_test = target_test.set_index(['mon', 'client_id']).join(feats_test.set_index(['mon', 'client_id']), how='left')\n",
        "df_test = df_test.join(feats_test_tgts.set_index(['mon', 'client_id']), how='left')\n",
        "df_test = df_test.join(geo_feats_test.set_index(['mon', 'client_id']), how='left')\n",
        "df_test = df_test.join(scores_embs_test.set_index(['mon', 'client_id']), how='left')\n",
        "df_test = df_test.fillna(-999)\n",
        "\n",
        "del feats_test\n",
        "del feats_test_tgts\n",
        "del geo_feats_test\n",
        "del scores_embs_test\n",
        "gc.collect()"
      ]
    },
    {
      "cell_type": "code",
      "execution_count": 11,
      "metadata": {
        "colab": {
          "base_uri": "https://localhost:8080/",
          "height": 204
        },
        "id": "1fJ-SZP1Jj5_",
        "outputId": "735c3095-3468-4fce-bfa5-bce6fe899a30"
      },
      "outputs": [
        {
          "data": {
            "application/vnd.google.colaboratory.intrinsic+json": {
              "summary": "{\n  \"name\": \"target_test\",\n  \"rows\": 75000,\n  \"fields\": [\n    {\n      \"column\": \"client_id\",\n      \"properties\": {\n        \"dtype\": \"string\",\n        \"num_unique_values\": 75000,\n        \"samples\": [\n          \"85f38e83b528a9b8fbf78dc9c6612664a5fb6a9800467469c629d9a30cd22c72\",\n          \"67736dd71941718334fc4948f42002f874d94330b81e88d61a9751850b5ade3d\",\n          \"048d88d681694ea360c6899ae6c236333d27d4654dae1c28eb9de9d4bd7e62a9\"\n        ],\n        \"semantic_type\": \"\",\n        \"description\": \"\"\n      }\n    },\n    {\n      \"column\": \"mon\",\n      \"properties\": {\n        \"dtype\": \"date\",\n        \"min\": \"2023-01-01 00:00:00\",\n        \"max\": \"2023-01-01 00:00:00\",\n        \"num_unique_values\": 1,\n        \"samples\": [\n          \"2023-01-01 00:00:00\"\n        ],\n        \"semantic_type\": \"\",\n        \"description\": \"\"\n      }\n    }\n  ]\n}",
              "type": "dataframe",
              "variable_name": "target_test"
            },
            "text/html": [
              "\n",
              "  <div id=\"df-34428504-2880-41fc-afb8-0323ab2115f4\" class=\"colab-df-container\">\n",
              "    <div>\n",
              "<style scoped>\n",
              "    .dataframe tbody tr th:only-of-type {\n",
              "        vertical-align: middle;\n",
              "    }\n",
              "\n",
              "    .dataframe tbody tr th {\n",
              "        vertical-align: top;\n",
              "    }\n",
              "\n",
              "    .dataframe thead th {\n",
              "        text-align: right;\n",
              "    }\n",
              "</style>\n",
              "<table border=\"1\" class=\"dataframe\">\n",
              "  <thead>\n",
              "    <tr style=\"text-align: right;\">\n",
              "      <th></th>\n",
              "      <th>client_id</th>\n",
              "      <th>mon</th>\n",
              "    </tr>\n",
              "  </thead>\n",
              "  <tbody>\n",
              "    <tr>\n",
              "      <th>0</th>\n",
              "      <td>2b7ff0c1c99cefe259ed83c5dfa0a403f2cbc88032b671...</td>\n",
              "      <td>2023-01-01</td>\n",
              "    </tr>\n",
              "    <tr>\n",
              "      <th>1</th>\n",
              "      <td>0433d23e224b7a520656da6181efadb8d556bb293158c9...</td>\n",
              "      <td>2023-01-01</td>\n",
              "    </tr>\n",
              "    <tr>\n",
              "      <th>2</th>\n",
              "      <td>f2ce8b292e5f9f778f3e20db7608ac76dc8812113a2631...</td>\n",
              "      <td>2023-01-01</td>\n",
              "    </tr>\n",
              "    <tr>\n",
              "      <th>3</th>\n",
              "      <td>4f807e8b163c653bcaeff9f925983568f4c3e6b1a1f231...</td>\n",
              "      <td>2023-01-01</td>\n",
              "    </tr>\n",
              "    <tr>\n",
              "      <th>4</th>\n",
              "      <td>64369f6f8ae1b719332ee1bfb2b454e642b2053d2c9b8a...</td>\n",
              "      <td>2023-01-01</td>\n",
              "    </tr>\n",
              "  </tbody>\n",
              "</table>\n",
              "</div>\n",
              "    <div class=\"colab-df-buttons\">\n",
              "\n",
              "  <div class=\"colab-df-container\">\n",
              "    <button class=\"colab-df-convert\" onclick=\"convertToInteractive('df-34428504-2880-41fc-afb8-0323ab2115f4')\"\n",
              "            title=\"Convert this dataframe to an interactive table.\"\n",
              "            style=\"display:none;\">\n",
              "\n",
              "  <svg xmlns=\"http://www.w3.org/2000/svg\" height=\"24px\" viewBox=\"0 -960 960 960\">\n",
              "    <path d=\"M120-120v-720h720v720H120Zm60-500h600v-160H180v160Zm220 220h160v-160H400v160Zm0 220h160v-160H400v160ZM180-400h160v-160H180v160Zm440 0h160v-160H620v160ZM180-180h160v-160H180v160Zm440 0h160v-160H620v160Z\"/>\n",
              "  </svg>\n",
              "    </button>\n",
              "\n",
              "  <style>\n",
              "    .colab-df-container {\n",
              "      display:flex;\n",
              "      gap: 12px;\n",
              "    }\n",
              "\n",
              "    .colab-df-convert {\n",
              "      background-color: #E8F0FE;\n",
              "      border: none;\n",
              "      border-radius: 50%;\n",
              "      cursor: pointer;\n",
              "      display: none;\n",
              "      fill: #1967D2;\n",
              "      height: 32px;\n",
              "      padding: 0 0 0 0;\n",
              "      width: 32px;\n",
              "    }\n",
              "\n",
              "    .colab-df-convert:hover {\n",
              "      background-color: #E2EBFA;\n",
              "      box-shadow: 0px 1px 2px rgba(60, 64, 67, 0.3), 0px 1px 3px 1px rgba(60, 64, 67, 0.15);\n",
              "      fill: #174EA6;\n",
              "    }\n",
              "\n",
              "    .colab-df-buttons div {\n",
              "      margin-bottom: 4px;\n",
              "    }\n",
              "\n",
              "    [theme=dark] .colab-df-convert {\n",
              "      background-color: #3B4455;\n",
              "      fill: #D2E3FC;\n",
              "    }\n",
              "\n",
              "    [theme=dark] .colab-df-convert:hover {\n",
              "      background-color: #434B5C;\n",
              "      box-shadow: 0px 1px 3px 1px rgba(0, 0, 0, 0.15);\n",
              "      filter: drop-shadow(0px 1px 2px rgba(0, 0, 0, 0.3));\n",
              "      fill: #FFFFFF;\n",
              "    }\n",
              "  </style>\n",
              "\n",
              "    <script>\n",
              "      const buttonEl =\n",
              "        document.querySelector('#df-34428504-2880-41fc-afb8-0323ab2115f4 button.colab-df-convert');\n",
              "      buttonEl.style.display =\n",
              "        google.colab.kernel.accessAllowed ? 'block' : 'none';\n",
              "\n",
              "      async function convertToInteractive(key) {\n",
              "        const element = document.querySelector('#df-34428504-2880-41fc-afb8-0323ab2115f4');\n",
              "        const dataTable =\n",
              "          await google.colab.kernel.invokeFunction('convertToInteractive',\n",
              "                                                    [key], {});\n",
              "        if (!dataTable) return;\n",
              "\n",
              "        const docLinkHtml = 'Like what you see? Visit the ' +\n",
              "          '<a target=\"_blank\" href=https://colab.research.google.com/notebooks/data_table.ipynb>data table notebook</a>'\n",
              "          + ' to learn more about interactive tables.';\n",
              "        element.innerHTML = '';\n",
              "        dataTable['output_type'] = 'display_data';\n",
              "        await google.colab.output.renderOutput(dataTable, element);\n",
              "        const docLink = document.createElement('div');\n",
              "        docLink.innerHTML = docLinkHtml;\n",
              "        element.appendChild(docLink);\n",
              "      }\n",
              "    </script>\n",
              "  </div>\n",
              "\n",
              "\n",
              "<div id=\"df-e2b137c0-a339-49a3-bd7c-69d0ff0cccbe\">\n",
              "  <button class=\"colab-df-quickchart\" onclick=\"quickchart('df-e2b137c0-a339-49a3-bd7c-69d0ff0cccbe')\"\n",
              "            title=\"Suggest charts\"\n",
              "            style=\"display:none;\">\n",
              "\n",
              "<svg xmlns=\"http://www.w3.org/2000/svg\" height=\"24px\"viewBox=\"0 0 24 24\"\n",
              "     width=\"24px\">\n",
              "    <g>\n",
              "        <path d=\"M19 3H5c-1.1 0-2 .9-2 2v14c0 1.1.9 2 2 2h14c1.1 0 2-.9 2-2V5c0-1.1-.9-2-2-2zM9 17H7v-7h2v7zm4 0h-2V7h2v10zm4 0h-2v-4h2v4z\"/>\n",
              "    </g>\n",
              "</svg>\n",
              "  </button>\n",
              "\n",
              "<style>\n",
              "  .colab-df-quickchart {\n",
              "      --bg-color: #E8F0FE;\n",
              "      --fill-color: #1967D2;\n",
              "      --hover-bg-color: #E2EBFA;\n",
              "      --hover-fill-color: #174EA6;\n",
              "      --disabled-fill-color: #AAA;\n",
              "      --disabled-bg-color: #DDD;\n",
              "  }\n",
              "\n",
              "  [theme=dark] .colab-df-quickchart {\n",
              "      --bg-color: #3B4455;\n",
              "      --fill-color: #D2E3FC;\n",
              "      --hover-bg-color: #434B5C;\n",
              "      --hover-fill-color: #FFFFFF;\n",
              "      --disabled-bg-color: #3B4455;\n",
              "      --disabled-fill-color: #666;\n",
              "  }\n",
              "\n",
              "  .colab-df-quickchart {\n",
              "    background-color: var(--bg-color);\n",
              "    border: none;\n",
              "    border-radius: 50%;\n",
              "    cursor: pointer;\n",
              "    display: none;\n",
              "    fill: var(--fill-color);\n",
              "    height: 32px;\n",
              "    padding: 0;\n",
              "    width: 32px;\n",
              "  }\n",
              "\n",
              "  .colab-df-quickchart:hover {\n",
              "    background-color: var(--hover-bg-color);\n",
              "    box-shadow: 0 1px 2px rgba(60, 64, 67, 0.3), 0 1px 3px 1px rgba(60, 64, 67, 0.15);\n",
              "    fill: var(--button-hover-fill-color);\n",
              "  }\n",
              "\n",
              "  .colab-df-quickchart-complete:disabled,\n",
              "  .colab-df-quickchart-complete:disabled:hover {\n",
              "    background-color: var(--disabled-bg-color);\n",
              "    fill: var(--disabled-fill-color);\n",
              "    box-shadow: none;\n",
              "  }\n",
              "\n",
              "  .colab-df-spinner {\n",
              "    border: 2px solid var(--fill-color);\n",
              "    border-color: transparent;\n",
              "    border-bottom-color: var(--fill-color);\n",
              "    animation:\n",
              "      spin 1s steps(1) infinite;\n",
              "  }\n",
              "\n",
              "  @keyframes spin {\n",
              "    0% {\n",
              "      border-color: transparent;\n",
              "      border-bottom-color: var(--fill-color);\n",
              "      border-left-color: var(--fill-color);\n",
              "    }\n",
              "    20% {\n",
              "      border-color: transparent;\n",
              "      border-left-color: var(--fill-color);\n",
              "      border-top-color: var(--fill-color);\n",
              "    }\n",
              "    30% {\n",
              "      border-color: transparent;\n",
              "      border-left-color: var(--fill-color);\n",
              "      border-top-color: var(--fill-color);\n",
              "      border-right-color: var(--fill-color);\n",
              "    }\n",
              "    40% {\n",
              "      border-color: transparent;\n",
              "      border-right-color: var(--fill-color);\n",
              "      border-top-color: var(--fill-color);\n",
              "    }\n",
              "    60% {\n",
              "      border-color: transparent;\n",
              "      border-right-color: var(--fill-color);\n",
              "    }\n",
              "    80% {\n",
              "      border-color: transparent;\n",
              "      border-right-color: var(--fill-color);\n",
              "      border-bottom-color: var(--fill-color);\n",
              "    }\n",
              "    90% {\n",
              "      border-color: transparent;\n",
              "      border-bottom-color: var(--fill-color);\n",
              "    }\n",
              "  }\n",
              "</style>\n",
              "\n",
              "  <script>\n",
              "    async function quickchart(key) {\n",
              "      const quickchartButtonEl =\n",
              "        document.querySelector('#' + key + ' button');\n",
              "      quickchartButtonEl.disabled = true;  // To prevent multiple clicks.\n",
              "      quickchartButtonEl.classList.add('colab-df-spinner');\n",
              "      try {\n",
              "        const charts = await google.colab.kernel.invokeFunction(\n",
              "            'suggestCharts', [key], {});\n",
              "      } catch (error) {\n",
              "        console.error('Error during call to suggestCharts:', error);\n",
              "      }\n",
              "      quickchartButtonEl.classList.remove('colab-df-spinner');\n",
              "      quickchartButtonEl.classList.add('colab-df-quickchart-complete');\n",
              "    }\n",
              "    (() => {\n",
              "      let quickchartButtonEl =\n",
              "        document.querySelector('#df-e2b137c0-a339-49a3-bd7c-69d0ff0cccbe button');\n",
              "      quickchartButtonEl.style.display =\n",
              "        google.colab.kernel.accessAllowed ? 'block' : 'none';\n",
              "    })();\n",
              "  </script>\n",
              "</div>\n",
              "    </div>\n",
              "  </div>\n"
            ],
            "text/plain": [
              "                                           client_id        mon\n",
              "0  2b7ff0c1c99cefe259ed83c5dfa0a403f2cbc88032b671... 2023-01-01\n",
              "1  0433d23e224b7a520656da6181efadb8d556bb293158c9... 2023-01-01\n",
              "2  f2ce8b292e5f9f778f3e20db7608ac76dc8812113a2631... 2023-01-01\n",
              "3  4f807e8b163c653bcaeff9f925983568f4c3e6b1a1f231... 2023-01-01\n",
              "4  64369f6f8ae1b719332ee1bfb2b454e642b2053d2c9b8a... 2023-01-01"
            ]
          },
          "execution_count": 11,
          "metadata": {},
          "output_type": "execute_result"
        }
      ],
      "source": [
        "target_test.head()"
      ]
    },
    {
      "cell_type": "code",
      "execution_count": 5,
      "metadata": {
        "id": "OgyccX1_whOK"
      },
      "outputs": [],
      "source": [
        "scores = []\n",
        "\n",
        "for t in range(1, 5):\n",
        "    target_col = f'target_{t}'\n",
        "    score = pd.Series(models_fin[target_col].predict(df_test))\n",
        "    scores.append(score)\n",
        "    gc.collect()\n",
        "\n",
        "scores = pd.concat(scores, axis=1)\n",
        "scores['client_id'] = df_test.reset_index().client_id\n",
        "scores['mon'] = df_test.reset_index().mon\n",
        "scores_test = scores.rename(columns={0: 'target_1', 1: 'target_2', 2: 'target_3', 3: 'target_4'})\\\n",
        ".set_index(['client_id', 'mon'])\n",
        "\n",
        "scores_test = pd.concat([scores_test,\n",
        "                         target_test.set_index(['client_id', 'mon'])],\n",
        "                         axis=1).reset_index().drop(columns=['mon'])\n",
        "\n",
        "scores_test.to_pickle(f'{DATA_PATH}/test_scores_pt2.pkl')"
      ]
    },
    {
      "cell_type": "code",
      "execution_count": 6,
      "metadata": {
        "colab": {
          "base_uri": "https://localhost:8080/",
          "height": 204
        },
        "id": "XMpCmknJ7w0Q",
        "outputId": "4b84ccd8-939d-42ea-b891-3e27568521be"
      },
      "outputs": [
        {
          "data": {
            "application/vnd.google.colaboratory.intrinsic+json": {
              "summary": "{\n  \"name\": \"scores_test\",\n  \"rows\": 65488,\n  \"fields\": [\n    {\n      \"column\": \"client_id\",\n      \"properties\": {\n        \"dtype\": \"string\",\n        \"num_unique_values\": 65488,\n        \"samples\": [\n          \"a593068764f9d51d6432987c5e8b42b5b5c11157974994d73a9fe72df3023e39\",\n          \"654157a46bea34ffb60f92d6d3da866a5991a449a7e679652438e31b37f94fcb\",\n          \"5193bb5520a34f85d3e5134b5ecbca93ed5b34a5e0edcf653139d8b1eb9edfde\"\n        ],\n        \"semantic_type\": \"\",\n        \"description\": \"\"\n      }\n    },\n    {\n      \"column\": \"target_1\",\n      \"properties\": {\n        \"dtype\": \"number\",\n        \"std\": 0.009337837997845114,\n        \"min\": 0.0017534465357946093,\n        \"max\": 0.04965959030675311,\n        \"num_unique_values\": 2128,\n        \"samples\": [\n          0.007873231982950422,\n          0.022119412911349806,\n          0.024589929749468668\n        ],\n        \"semantic_type\": \"\",\n        \"description\": \"\"\n      }\n    },\n    {\n      \"column\": \"target_2\",\n      \"properties\": {\n        \"dtype\": \"number\",\n        \"std\": 0.001597156571207981,\n        \"min\": 0.0004532977573937686,\n        \"max\": 0.017068379702751397,\n        \"num_unique_values\": 1398,\n        \"samples\": [\n          0.0004990521926080137,\n          0.0017593213046839854,\n          0.0019349623002356548\n        ],\n        \"semantic_type\": \"\",\n        \"description\": \"\"\n      }\n    },\n    {\n      \"column\": \"target_3\",\n      \"properties\": {\n        \"dtype\": \"number\",\n        \"std\": 0.008879591710894297,\n        \"min\": 0.000671018414099034,\n        \"max\": 0.03506434011953673,\n        \"num_unique_values\": 2374,\n        \"samples\": [\n          0.01155397556398178,\n          0.0054780391519176665,\n          0.013164126101632477\n        ],\n        \"semantic_type\": \"\",\n        \"description\": \"\"\n      }\n    },\n    {\n      \"column\": \"target_4\",\n      \"properties\": {\n        \"dtype\": \"number\",\n        \"std\": 0.00893557872533662,\n        \"min\": 0.0007635055763140748,\n        \"max\": 0.27774260677026114,\n        \"num_unique_values\": 6674,\n        \"samples\": [\n          0.015964796171023112,\n          0.03184598177938117,\n          0.01463938896326458\n        ],\n        \"semantic_type\": \"\",\n        \"description\": \"\"\n      }\n    }\n  ]\n}",
              "type": "dataframe",
              "variable_name": "scores_test"
            },
            "text/html": [
              "\n",
              "  <div id=\"df-728b80c1-3056-4c96-8f7f-732d57eacecc\" class=\"colab-df-container\">\n",
              "    <div>\n",
              "<style scoped>\n",
              "    .dataframe tbody tr th:only-of-type {\n",
              "        vertical-align: middle;\n",
              "    }\n",
              "\n",
              "    .dataframe tbody tr th {\n",
              "        vertical-align: top;\n",
              "    }\n",
              "\n",
              "    .dataframe thead th {\n",
              "        text-align: right;\n",
              "    }\n",
              "</style>\n",
              "<table border=\"1\" class=\"dataframe\">\n",
              "  <thead>\n",
              "    <tr style=\"text-align: right;\">\n",
              "      <th></th>\n",
              "      <th>client_id</th>\n",
              "      <th>target_1</th>\n",
              "      <th>target_2</th>\n",
              "      <th>target_3</th>\n",
              "      <th>target_4</th>\n",
              "    </tr>\n",
              "  </thead>\n",
              "  <tbody>\n",
              "    <tr>\n",
              "      <th>0</th>\n",
              "      <td>0003304a0f65d675ddfbc0691e0c564d26a4c9e08edf67...</td>\n",
              "      <td>0.034360</td>\n",
              "      <td>0.007295</td>\n",
              "      <td>0.034315</td>\n",
              "      <td>0.016588</td>\n",
              "    </tr>\n",
              "    <tr>\n",
              "      <th>1</th>\n",
              "      <td>00039ebffe68b42fd93f3919b8a7bef28b63cfa65f630a...</td>\n",
              "      <td>0.004993</td>\n",
              "      <td>0.000598</td>\n",
              "      <td>0.002591</td>\n",
              "      <td>0.002381</td>\n",
              "    </tr>\n",
              "    <tr>\n",
              "      <th>2</th>\n",
              "      <td>00066ddb37c6a9cc8aef6404b3f485322501d6b2baefb4...</td>\n",
              "      <td>0.024999</td>\n",
              "      <td>0.001109</td>\n",
              "      <td>0.030627</td>\n",
              "      <td>0.039963</td>\n",
              "    </tr>\n",
              "    <tr>\n",
              "      <th>3</th>\n",
              "      <td>000757cdc288fb1095fa51b8f98166bc2d29bc5f6ea708...</td>\n",
              "      <td>0.023959</td>\n",
              "      <td>0.000895</td>\n",
              "      <td>0.021019</td>\n",
              "      <td>0.012897</td>\n",
              "    </tr>\n",
              "    <tr>\n",
              "      <th>4</th>\n",
              "      <td>00085d064d3815a69c9f3c270015c25b59b9c58b09ef1c...</td>\n",
              "      <td>0.002380</td>\n",
              "      <td>0.000453</td>\n",
              "      <td>0.000671</td>\n",
              "      <td>0.000815</td>\n",
              "    </tr>\n",
              "  </tbody>\n",
              "</table>\n",
              "</div>\n",
              "    <div class=\"colab-df-buttons\">\n",
              "\n",
              "  <div class=\"colab-df-container\">\n",
              "    <button class=\"colab-df-convert\" onclick=\"convertToInteractive('df-728b80c1-3056-4c96-8f7f-732d57eacecc')\"\n",
              "            title=\"Convert this dataframe to an interactive table.\"\n",
              "            style=\"display:none;\">\n",
              "\n",
              "  <svg xmlns=\"http://www.w3.org/2000/svg\" height=\"24px\" viewBox=\"0 -960 960 960\">\n",
              "    <path d=\"M120-120v-720h720v720H120Zm60-500h600v-160H180v160Zm220 220h160v-160H400v160Zm0 220h160v-160H400v160ZM180-400h160v-160H180v160Zm440 0h160v-160H620v160ZM180-180h160v-160H180v160Zm440 0h160v-160H620v160Z\"/>\n",
              "  </svg>\n",
              "    </button>\n",
              "\n",
              "  <style>\n",
              "    .colab-df-container {\n",
              "      display:flex;\n",
              "      gap: 12px;\n",
              "    }\n",
              "\n",
              "    .colab-df-convert {\n",
              "      background-color: #E8F0FE;\n",
              "      border: none;\n",
              "      border-radius: 50%;\n",
              "      cursor: pointer;\n",
              "      display: none;\n",
              "      fill: #1967D2;\n",
              "      height: 32px;\n",
              "      padding: 0 0 0 0;\n",
              "      width: 32px;\n",
              "    }\n",
              "\n",
              "    .colab-df-convert:hover {\n",
              "      background-color: #E2EBFA;\n",
              "      box-shadow: 0px 1px 2px rgba(60, 64, 67, 0.3), 0px 1px 3px 1px rgba(60, 64, 67, 0.15);\n",
              "      fill: #174EA6;\n",
              "    }\n",
              "\n",
              "    .colab-df-buttons div {\n",
              "      margin-bottom: 4px;\n",
              "    }\n",
              "\n",
              "    [theme=dark] .colab-df-convert {\n",
              "      background-color: #3B4455;\n",
              "      fill: #D2E3FC;\n",
              "    }\n",
              "\n",
              "    [theme=dark] .colab-df-convert:hover {\n",
              "      background-color: #434B5C;\n",
              "      box-shadow: 0px 1px 3px 1px rgba(0, 0, 0, 0.15);\n",
              "      filter: drop-shadow(0px 1px 2px rgba(0, 0, 0, 0.3));\n",
              "      fill: #FFFFFF;\n",
              "    }\n",
              "  </style>\n",
              "\n",
              "    <script>\n",
              "      const buttonEl =\n",
              "        document.querySelector('#df-728b80c1-3056-4c96-8f7f-732d57eacecc button.colab-df-convert');\n",
              "      buttonEl.style.display =\n",
              "        google.colab.kernel.accessAllowed ? 'block' : 'none';\n",
              "\n",
              "      async function convertToInteractive(key) {\n",
              "        const element = document.querySelector('#df-728b80c1-3056-4c96-8f7f-732d57eacecc');\n",
              "        const dataTable =\n",
              "          await google.colab.kernel.invokeFunction('convertToInteractive',\n",
              "                                                    [key], {});\n",
              "        if (!dataTable) return;\n",
              "\n",
              "        const docLinkHtml = 'Like what you see? Visit the ' +\n",
              "          '<a target=\"_blank\" href=https://colab.research.google.com/notebooks/data_table.ipynb>data table notebook</a>'\n",
              "          + ' to learn more about interactive tables.';\n",
              "        element.innerHTML = '';\n",
              "        dataTable['output_type'] = 'display_data';\n",
              "        await google.colab.output.renderOutput(dataTable, element);\n",
              "        const docLink = document.createElement('div');\n",
              "        docLink.innerHTML = docLinkHtml;\n",
              "        element.appendChild(docLink);\n",
              "      }\n",
              "    </script>\n",
              "  </div>\n",
              "\n",
              "\n",
              "<div id=\"df-2816f125-e644-4ebf-8df4-d2e60ca9b752\">\n",
              "  <button class=\"colab-df-quickchart\" onclick=\"quickchart('df-2816f125-e644-4ebf-8df4-d2e60ca9b752')\"\n",
              "            title=\"Suggest charts\"\n",
              "            style=\"display:none;\">\n",
              "\n",
              "<svg xmlns=\"http://www.w3.org/2000/svg\" height=\"24px\"viewBox=\"0 0 24 24\"\n",
              "     width=\"24px\">\n",
              "    <g>\n",
              "        <path d=\"M19 3H5c-1.1 0-2 .9-2 2v14c0 1.1.9 2 2 2h14c1.1 0 2-.9 2-2V5c0-1.1-.9-2-2-2zM9 17H7v-7h2v7zm4 0h-2V7h2v10zm4 0h-2v-4h2v4z\"/>\n",
              "    </g>\n",
              "</svg>\n",
              "  </button>\n",
              "\n",
              "<style>\n",
              "  .colab-df-quickchart {\n",
              "      --bg-color: #E8F0FE;\n",
              "      --fill-color: #1967D2;\n",
              "      --hover-bg-color: #E2EBFA;\n",
              "      --hover-fill-color: #174EA6;\n",
              "      --disabled-fill-color: #AAA;\n",
              "      --disabled-bg-color: #DDD;\n",
              "  }\n",
              "\n",
              "  [theme=dark] .colab-df-quickchart {\n",
              "      --bg-color: #3B4455;\n",
              "      --fill-color: #D2E3FC;\n",
              "      --hover-bg-color: #434B5C;\n",
              "      --hover-fill-color: #FFFFFF;\n",
              "      --disabled-bg-color: #3B4455;\n",
              "      --disabled-fill-color: #666;\n",
              "  }\n",
              "\n",
              "  .colab-df-quickchart {\n",
              "    background-color: var(--bg-color);\n",
              "    border: none;\n",
              "    border-radius: 50%;\n",
              "    cursor: pointer;\n",
              "    display: none;\n",
              "    fill: var(--fill-color);\n",
              "    height: 32px;\n",
              "    padding: 0;\n",
              "    width: 32px;\n",
              "  }\n",
              "\n",
              "  .colab-df-quickchart:hover {\n",
              "    background-color: var(--hover-bg-color);\n",
              "    box-shadow: 0 1px 2px rgba(60, 64, 67, 0.3), 0 1px 3px 1px rgba(60, 64, 67, 0.15);\n",
              "    fill: var(--button-hover-fill-color);\n",
              "  }\n",
              "\n",
              "  .colab-df-quickchart-complete:disabled,\n",
              "  .colab-df-quickchart-complete:disabled:hover {\n",
              "    background-color: var(--disabled-bg-color);\n",
              "    fill: var(--disabled-fill-color);\n",
              "    box-shadow: none;\n",
              "  }\n",
              "\n",
              "  .colab-df-spinner {\n",
              "    border: 2px solid var(--fill-color);\n",
              "    border-color: transparent;\n",
              "    border-bottom-color: var(--fill-color);\n",
              "    animation:\n",
              "      spin 1s steps(1) infinite;\n",
              "  }\n",
              "\n",
              "  @keyframes spin {\n",
              "    0% {\n",
              "      border-color: transparent;\n",
              "      border-bottom-color: var(--fill-color);\n",
              "      border-left-color: var(--fill-color);\n",
              "    }\n",
              "    20% {\n",
              "      border-color: transparent;\n",
              "      border-left-color: var(--fill-color);\n",
              "      border-top-color: var(--fill-color);\n",
              "    }\n",
              "    30% {\n",
              "      border-color: transparent;\n",
              "      border-left-color: var(--fill-color);\n",
              "      border-top-color: var(--fill-color);\n",
              "      border-right-color: var(--fill-color);\n",
              "    }\n",
              "    40% {\n",
              "      border-color: transparent;\n",
              "      border-right-color: var(--fill-color);\n",
              "      border-top-color: var(--fill-color);\n",
              "    }\n",
              "    60% {\n",
              "      border-color: transparent;\n",
              "      border-right-color: var(--fill-color);\n",
              "    }\n",
              "    80% {\n",
              "      border-color: transparent;\n",
              "      border-right-color: var(--fill-color);\n",
              "      border-bottom-color: var(--fill-color);\n",
              "    }\n",
              "    90% {\n",
              "      border-color: transparent;\n",
              "      border-bottom-color: var(--fill-color);\n",
              "    }\n",
              "  }\n",
              "</style>\n",
              "\n",
              "  <script>\n",
              "    async function quickchart(key) {\n",
              "      const quickchartButtonEl =\n",
              "        document.querySelector('#' + key + ' button');\n",
              "      quickchartButtonEl.disabled = true;  // To prevent multiple clicks.\n",
              "      quickchartButtonEl.classList.add('colab-df-spinner');\n",
              "      try {\n",
              "        const charts = await google.colab.kernel.invokeFunction(\n",
              "            'suggestCharts', [key], {});\n",
              "      } catch (error) {\n",
              "        console.error('Error during call to suggestCharts:', error);\n",
              "      }\n",
              "      quickchartButtonEl.classList.remove('colab-df-spinner');\n",
              "      quickchartButtonEl.classList.add('colab-df-quickchart-complete');\n",
              "    }\n",
              "    (() => {\n",
              "      let quickchartButtonEl =\n",
              "        document.querySelector('#df-2816f125-e644-4ebf-8df4-d2e60ca9b752 button');\n",
              "      quickchartButtonEl.style.display =\n",
              "        google.colab.kernel.accessAllowed ? 'block' : 'none';\n",
              "    })();\n",
              "  </script>\n",
              "</div>\n",
              "    </div>\n",
              "  </div>\n"
            ],
            "text/plain": [
              "                                           client_id  target_1  target_2  \\\n",
              "0  0003304a0f65d675ddfbc0691e0c564d26a4c9e08edf67...  0.034360  0.007295   \n",
              "1  00039ebffe68b42fd93f3919b8a7bef28b63cfa65f630a...  0.004993  0.000598   \n",
              "2  00066ddb37c6a9cc8aef6404b3f485322501d6b2baefb4...  0.024999  0.001109   \n",
              "3  000757cdc288fb1095fa51b8f98166bc2d29bc5f6ea708...  0.023959  0.000895   \n",
              "4  00085d064d3815a69c9f3c270015c25b59b9c58b09ef1c...  0.002380  0.000453   \n",
              "\n",
              "   target_3  target_4  \n",
              "0  0.034315  0.016588  \n",
              "1  0.002591  0.002381  \n",
              "2  0.030627  0.039963  \n",
              "3  0.021019  0.012897  \n",
              "4  0.000671  0.000815  "
            ]
          },
          "execution_count": 6,
          "metadata": {},
          "output_type": "execute_result"
        }
      ],
      "source": [
        "scores_test.head()"
      ]
    },
    {
      "cell_type": "code",
      "execution_count": 7,
      "metadata": {
        "id": "uvPneowF7w2t"
      },
      "outputs": [],
      "source": [
        "scores_pt1 = pd.read_pickle(f'{DATA_PATH}/test_scores_pt1.pkl')\n",
        "scores_pt2 = pd.read_pickle(f'{DATA_PATH}/test_scores_pt2.pkl')\n",
        "\n",
        "scores_full = pd.concat([scores_pt1, scores_pt2], axis=0)\n",
        "scores_full.to_csv(f'{DATA_PATH}/test_scored.txt')"
      ]
    },
    {
      "cell_type": "code",
      "execution_count": 8,
      "metadata": {
        "colab": {
          "base_uri": "https://localhost:8080/"
        },
        "id": "2wGVcB9J7w5T",
        "outputId": "2d9bf969-c453-49cb-8f24-78b3697f0242"
      },
      "outputs": [
        {
          "data": {
            "text/plain": [
              "(140488, 5)"
            ]
          },
          "execution_count": 8,
          "metadata": {},
          "output_type": "execute_result"
        }
      ],
      "source": [
        "scores_full.shape"
      ]
    },
    {
      "cell_type": "code",
      "execution_count": 10,
      "metadata": {
        "colab": {
          "base_uri": "https://localhost:8080/"
        },
        "id": "Z6LGIpsAMrTX",
        "outputId": "6c99a759-2b19-4d9e-ea89-1280c55699d4"
      },
      "outputs": [
        {
          "data": {
            "text/plain": [
              "(140488, 1)"
            ]
          },
          "execution_count": 10,
          "metadata": {},
          "output_type": "execute_result"
        }
      ],
      "source": [
        "target_test = pd.read_parquet(f\"{DATA_PATH}/test_target_b.parquet\")\n",
        "pd.DataFrame(target_test.client_id.unique(), columns=['client_id']).shape"
      ]
    },
    {
      "cell_type": "code",
      "execution_count": 11,
      "metadata": {
        "colab": {
          "base_uri": "https://localhost:8080/",
          "height": 204
        },
        "id": "GbGPT027MrVz",
        "outputId": "9fe6f090-7fd2-4484-c937-ab67c6e32bfd"
      },
      "outputs": [
        {
          "data": {
            "application/vnd.google.colaboratory.intrinsic+json": {
              "type": "dataframe",
              "variable_name": "scores_full"
            },
            "text/html": [
              "\n",
              "  <div id=\"df-4fca30b4-22f9-45d5-8aab-0bde029d0708\" class=\"colab-df-container\">\n",
              "    <div>\n",
              "<style scoped>\n",
              "    .dataframe tbody tr th:only-of-type {\n",
              "        vertical-align: middle;\n",
              "    }\n",
              "\n",
              "    .dataframe tbody tr th {\n",
              "        vertical-align: top;\n",
              "    }\n",
              "\n",
              "    .dataframe thead th {\n",
              "        text-align: right;\n",
              "    }\n",
              "</style>\n",
              "<table border=\"1\" class=\"dataframe\">\n",
              "  <thead>\n",
              "    <tr style=\"text-align: right;\">\n",
              "      <th></th>\n",
              "      <th>client_id</th>\n",
              "      <th>target_1</th>\n",
              "      <th>target_2</th>\n",
              "      <th>target_3</th>\n",
              "      <th>target_4</th>\n",
              "    </tr>\n",
              "  </thead>\n",
              "  <tbody>\n",
              "    <tr>\n",
              "      <th>0</th>\n",
              "      <td>00011c01bb22d8f62d9655f32d123dcca5ae55179f8266...</td>\n",
              "      <td>0.013956</td>\n",
              "      <td>0.000608</td>\n",
              "      <td>0.011656</td>\n",
              "      <td>0.010187</td>\n",
              "    </tr>\n",
              "    <tr>\n",
              "      <th>1</th>\n",
              "      <td>0001ac6446bf223a094d6514a6c890d82e9aa92104dee0...</td>\n",
              "      <td>0.025945</td>\n",
              "      <td>0.003558</td>\n",
              "      <td>0.030931</td>\n",
              "      <td>0.016588</td>\n",
              "    </tr>\n",
              "    <tr>\n",
              "      <th>2</th>\n",
              "      <td>0001b878e81279fa43c4429616359b5b276eecc69ddc31...</td>\n",
              "      <td>0.004993</td>\n",
              "      <td>0.001152</td>\n",
              "      <td>0.003010</td>\n",
              "      <td>0.002842</td>\n",
              "    </tr>\n",
              "    <tr>\n",
              "      <th>3</th>\n",
              "      <td>00037813e71deead5685649d494c9a412391942fe771e2...</td>\n",
              "      <td>0.014831</td>\n",
              "      <td>0.001358</td>\n",
              "      <td>0.008879</td>\n",
              "      <td>0.015984</td>\n",
              "    </tr>\n",
              "    <tr>\n",
              "      <th>4</th>\n",
              "      <td>00037867760a52a2f4bcdeb31f309a5bc6280b9f4e0b92...</td>\n",
              "      <td>0.004409</td>\n",
              "      <td>0.000453</td>\n",
              "      <td>0.004906</td>\n",
              "      <td>0.003266</td>\n",
              "    </tr>\n",
              "  </tbody>\n",
              "</table>\n",
              "</div>\n",
              "    <div class=\"colab-df-buttons\">\n",
              "\n",
              "  <div class=\"colab-df-container\">\n",
              "    <button class=\"colab-df-convert\" onclick=\"convertToInteractive('df-4fca30b4-22f9-45d5-8aab-0bde029d0708')\"\n",
              "            title=\"Convert this dataframe to an interactive table.\"\n",
              "            style=\"display:none;\">\n",
              "\n",
              "  <svg xmlns=\"http://www.w3.org/2000/svg\" height=\"24px\" viewBox=\"0 -960 960 960\">\n",
              "    <path d=\"M120-120v-720h720v720H120Zm60-500h600v-160H180v160Zm220 220h160v-160H400v160Zm0 220h160v-160H400v160ZM180-400h160v-160H180v160Zm440 0h160v-160H620v160ZM180-180h160v-160H180v160Zm440 0h160v-160H620v160Z\"/>\n",
              "  </svg>\n",
              "    </button>\n",
              "\n",
              "  <style>\n",
              "    .colab-df-container {\n",
              "      display:flex;\n",
              "      gap: 12px;\n",
              "    }\n",
              "\n",
              "    .colab-df-convert {\n",
              "      background-color: #E8F0FE;\n",
              "      border: none;\n",
              "      border-radius: 50%;\n",
              "      cursor: pointer;\n",
              "      display: none;\n",
              "      fill: #1967D2;\n",
              "      height: 32px;\n",
              "      padding: 0 0 0 0;\n",
              "      width: 32px;\n",
              "    }\n",
              "\n",
              "    .colab-df-convert:hover {\n",
              "      background-color: #E2EBFA;\n",
              "      box-shadow: 0px 1px 2px rgba(60, 64, 67, 0.3), 0px 1px 3px 1px rgba(60, 64, 67, 0.15);\n",
              "      fill: #174EA6;\n",
              "    }\n",
              "\n",
              "    .colab-df-buttons div {\n",
              "      margin-bottom: 4px;\n",
              "    }\n",
              "\n",
              "    [theme=dark] .colab-df-convert {\n",
              "      background-color: #3B4455;\n",
              "      fill: #D2E3FC;\n",
              "    }\n",
              "\n",
              "    [theme=dark] .colab-df-convert:hover {\n",
              "      background-color: #434B5C;\n",
              "      box-shadow: 0px 1px 3px 1px rgba(0, 0, 0, 0.15);\n",
              "      filter: drop-shadow(0px 1px 2px rgba(0, 0, 0, 0.3));\n",
              "      fill: #FFFFFF;\n",
              "    }\n",
              "  </style>\n",
              "\n",
              "    <script>\n",
              "      const buttonEl =\n",
              "        document.querySelector('#df-4fca30b4-22f9-45d5-8aab-0bde029d0708 button.colab-df-convert');\n",
              "      buttonEl.style.display =\n",
              "        google.colab.kernel.accessAllowed ? 'block' : 'none';\n",
              "\n",
              "      async function convertToInteractive(key) {\n",
              "        const element = document.querySelector('#df-4fca30b4-22f9-45d5-8aab-0bde029d0708');\n",
              "        const dataTable =\n",
              "          await google.colab.kernel.invokeFunction('convertToInteractive',\n",
              "                                                    [key], {});\n",
              "        if (!dataTable) return;\n",
              "\n",
              "        const docLinkHtml = 'Like what you see? Visit the ' +\n",
              "          '<a target=\"_blank\" href=https://colab.research.google.com/notebooks/data_table.ipynb>data table notebook</a>'\n",
              "          + ' to learn more about interactive tables.';\n",
              "        element.innerHTML = '';\n",
              "        dataTable['output_type'] = 'display_data';\n",
              "        await google.colab.output.renderOutput(dataTable, element);\n",
              "        const docLink = document.createElement('div');\n",
              "        docLink.innerHTML = docLinkHtml;\n",
              "        element.appendChild(docLink);\n",
              "      }\n",
              "    </script>\n",
              "  </div>\n",
              "\n",
              "\n",
              "<div id=\"df-c5e5d353-1e5b-4e14-b4a2-79be3138fb88\">\n",
              "  <button class=\"colab-df-quickchart\" onclick=\"quickchart('df-c5e5d353-1e5b-4e14-b4a2-79be3138fb88')\"\n",
              "            title=\"Suggest charts\"\n",
              "            style=\"display:none;\">\n",
              "\n",
              "<svg xmlns=\"http://www.w3.org/2000/svg\" height=\"24px\"viewBox=\"0 0 24 24\"\n",
              "     width=\"24px\">\n",
              "    <g>\n",
              "        <path d=\"M19 3H5c-1.1 0-2 .9-2 2v14c0 1.1.9 2 2 2h14c1.1 0 2-.9 2-2V5c0-1.1-.9-2-2-2zM9 17H7v-7h2v7zm4 0h-2V7h2v10zm4 0h-2v-4h2v4z\"/>\n",
              "    </g>\n",
              "</svg>\n",
              "  </button>\n",
              "\n",
              "<style>\n",
              "  .colab-df-quickchart {\n",
              "      --bg-color: #E8F0FE;\n",
              "      --fill-color: #1967D2;\n",
              "      --hover-bg-color: #E2EBFA;\n",
              "      --hover-fill-color: #174EA6;\n",
              "      --disabled-fill-color: #AAA;\n",
              "      --disabled-bg-color: #DDD;\n",
              "  }\n",
              "\n",
              "  [theme=dark] .colab-df-quickchart {\n",
              "      --bg-color: #3B4455;\n",
              "      --fill-color: #D2E3FC;\n",
              "      --hover-bg-color: #434B5C;\n",
              "      --hover-fill-color: #FFFFFF;\n",
              "      --disabled-bg-color: #3B4455;\n",
              "      --disabled-fill-color: #666;\n",
              "  }\n",
              "\n",
              "  .colab-df-quickchart {\n",
              "    background-color: var(--bg-color);\n",
              "    border: none;\n",
              "    border-radius: 50%;\n",
              "    cursor: pointer;\n",
              "    display: none;\n",
              "    fill: var(--fill-color);\n",
              "    height: 32px;\n",
              "    padding: 0;\n",
              "    width: 32px;\n",
              "  }\n",
              "\n",
              "  .colab-df-quickchart:hover {\n",
              "    background-color: var(--hover-bg-color);\n",
              "    box-shadow: 0 1px 2px rgba(60, 64, 67, 0.3), 0 1px 3px 1px rgba(60, 64, 67, 0.15);\n",
              "    fill: var(--button-hover-fill-color);\n",
              "  }\n",
              "\n",
              "  .colab-df-quickchart-complete:disabled,\n",
              "  .colab-df-quickchart-complete:disabled:hover {\n",
              "    background-color: var(--disabled-bg-color);\n",
              "    fill: var(--disabled-fill-color);\n",
              "    box-shadow: none;\n",
              "  }\n",
              "\n",
              "  .colab-df-spinner {\n",
              "    border: 2px solid var(--fill-color);\n",
              "    border-color: transparent;\n",
              "    border-bottom-color: var(--fill-color);\n",
              "    animation:\n",
              "      spin 1s steps(1) infinite;\n",
              "  }\n",
              "\n",
              "  @keyframes spin {\n",
              "    0% {\n",
              "      border-color: transparent;\n",
              "      border-bottom-color: var(--fill-color);\n",
              "      border-left-color: var(--fill-color);\n",
              "    }\n",
              "    20% {\n",
              "      border-color: transparent;\n",
              "      border-left-color: var(--fill-color);\n",
              "      border-top-color: var(--fill-color);\n",
              "    }\n",
              "    30% {\n",
              "      border-color: transparent;\n",
              "      border-left-color: var(--fill-color);\n",
              "      border-top-color: var(--fill-color);\n",
              "      border-right-color: var(--fill-color);\n",
              "    }\n",
              "    40% {\n",
              "      border-color: transparent;\n",
              "      border-right-color: var(--fill-color);\n",
              "      border-top-color: var(--fill-color);\n",
              "    }\n",
              "    60% {\n",
              "      border-color: transparent;\n",
              "      border-right-color: var(--fill-color);\n",
              "    }\n",
              "    80% {\n",
              "      border-color: transparent;\n",
              "      border-right-color: var(--fill-color);\n",
              "      border-bottom-color: var(--fill-color);\n",
              "    }\n",
              "    90% {\n",
              "      border-color: transparent;\n",
              "      border-bottom-color: var(--fill-color);\n",
              "    }\n",
              "  }\n",
              "</style>\n",
              "\n",
              "  <script>\n",
              "    async function quickchart(key) {\n",
              "      const quickchartButtonEl =\n",
              "        document.querySelector('#' + key + ' button');\n",
              "      quickchartButtonEl.disabled = true;  // To prevent multiple clicks.\n",
              "      quickchartButtonEl.classList.add('colab-df-spinner');\n",
              "      try {\n",
              "        const charts = await google.colab.kernel.invokeFunction(\n",
              "            'suggestCharts', [key], {});\n",
              "      } catch (error) {\n",
              "        console.error('Error during call to suggestCharts:', error);\n",
              "      }\n",
              "      quickchartButtonEl.classList.remove('colab-df-spinner');\n",
              "      quickchartButtonEl.classList.add('colab-df-quickchart-complete');\n",
              "    }\n",
              "    (() => {\n",
              "      let quickchartButtonEl =\n",
              "        document.querySelector('#df-c5e5d353-1e5b-4e14-b4a2-79be3138fb88 button');\n",
              "      quickchartButtonEl.style.display =\n",
              "        google.colab.kernel.accessAllowed ? 'block' : 'none';\n",
              "    })();\n",
              "  </script>\n",
              "</div>\n",
              "    </div>\n",
              "  </div>\n"
            ],
            "text/plain": [
              "                                           client_id  target_1  target_2  \\\n",
              "0  00011c01bb22d8f62d9655f32d123dcca5ae55179f8266...  0.013956  0.000608   \n",
              "1  0001ac6446bf223a094d6514a6c890d82e9aa92104dee0...  0.025945  0.003558   \n",
              "2  0001b878e81279fa43c4429616359b5b276eecc69ddc31...  0.004993  0.001152   \n",
              "3  00037813e71deead5685649d494c9a412391942fe771e2...  0.014831  0.001358   \n",
              "4  00037867760a52a2f4bcdeb31f309a5bc6280b9f4e0b92...  0.004409  0.000453   \n",
              "\n",
              "   target_3  target_4  \n",
              "0  0.011656  0.010187  \n",
              "1  0.030931  0.016588  \n",
              "2  0.003010  0.002842  \n",
              "3  0.008879  0.015984  \n",
              "4  0.004906  0.003266  "
            ]
          },
          "execution_count": 11,
          "metadata": {},
          "output_type": "execute_result"
        }
      ],
      "source": [
        "scores_full.head()"
      ]
    },
    {
      "cell_type": "code",
      "execution_count": 24,
      "metadata": {
        "id": "Vp3M8_dIMrYJ"
      },
      "outputs": [],
      "source": [
        "scores_full = pd.concat([scores_pt1, scores_pt2], axis=0)\n",
        "scores_baseline = pd.read_csv(f\"{DATA_PATH}/sample_submission.csv\")\n",
        "scores_baseline = scores_baseline.set_index('client_id')\n",
        "scores_full = scores_full.set_index('client_id')"
      ]
    },
    {
      "cell_type": "code",
      "execution_count": 25,
      "metadata": {
        "id": "ykqjgHYrMraY"
      },
      "outputs": [],
      "source": [
        "for t in range(1, 5):\n",
        "    target_column = f'target_{t}'\n",
        "    scores_full[target_column] = scores_baseline[target_column] / scores_baseline[target_column].mean() \\\n",
        "    * 0.2 + scores_full[target_column] / scores_full[target_column].mean() * 0.8\n",
        "\n",
        "scores_full.reset_index().to_csv(f'{DATA_PATH}/test_scored_blend.csv')"
      ]
    },
    {
      "cell_type": "code",
      "execution_count": 26,
      "metadata": {
        "colab": {
          "base_uri": "https://localhost:8080/",
          "height": 235
        },
        "id": "MD5vlI6Tae68",
        "outputId": "5855ca49-4c6c-4303-8f56-433b8710b0d1"
      },
      "outputs": [
        {
          "data": {
            "application/vnd.google.colaboratory.intrinsic+json": {
              "type": "dataframe",
              "variable_name": "scores_full"
            },
            "text/html": [
              "\n",
              "  <div id=\"df-a72c1506-6e31-4c0d-8353-2e0708f8eee9\" class=\"colab-df-container\">\n",
              "    <div>\n",
              "<style scoped>\n",
              "    .dataframe tbody tr th:only-of-type {\n",
              "        vertical-align: middle;\n",
              "    }\n",
              "\n",
              "    .dataframe tbody tr th {\n",
              "        vertical-align: top;\n",
              "    }\n",
              "\n",
              "    .dataframe thead th {\n",
              "        text-align: right;\n",
              "    }\n",
              "</style>\n",
              "<table border=\"1\" class=\"dataframe\">\n",
              "  <thead>\n",
              "    <tr style=\"text-align: right;\">\n",
              "      <th></th>\n",
              "      <th>target_1</th>\n",
              "      <th>target_2</th>\n",
              "      <th>target_3</th>\n",
              "      <th>target_4</th>\n",
              "    </tr>\n",
              "    <tr>\n",
              "      <th>client_id</th>\n",
              "      <th></th>\n",
              "      <th></th>\n",
              "      <th></th>\n",
              "      <th></th>\n",
              "    </tr>\n",
              "  </thead>\n",
              "  <tbody>\n",
              "    <tr>\n",
              "      <th>00011c01bb22d8f62d9655f32d123dcca5ae55179f8266bdb8676e25321e8477</th>\n",
              "      <td>1.296766</td>\n",
              "      <td>0.482974</td>\n",
              "      <td>1.411441</td>\n",
              "      <td>2.465642</td>\n",
              "    </tr>\n",
              "    <tr>\n",
              "      <th>0001ac6446bf223a094d6514a6c890d82e9aa92104dee0a8afc28b2002b95dac</th>\n",
              "      <td>2.337731</td>\n",
              "      <td>2.897624</td>\n",
              "      <td>3.357715</td>\n",
              "      <td>2.447702</td>\n",
              "    </tr>\n",
              "    <tr>\n",
              "      <th>0001b878e81279fa43c4429616359b5b276eecc69ddc315f0125d0e289950911</th>\n",
              "      <td>0.560491</td>\n",
              "      <td>0.934799</td>\n",
              "      <td>0.371818</td>\n",
              "      <td>0.399160</td>\n",
              "    </tr>\n",
              "    <tr>\n",
              "      <th>00037813e71deead5685649d494c9a412391942fe771e2699bcc33029bd5c7dd</th>\n",
              "      <td>1.309214</td>\n",
              "      <td>1.143618</td>\n",
              "      <td>0.924956</td>\n",
              "      <td>2.051678</td>\n",
              "    </tr>\n",
              "    <tr>\n",
              "      <th>00037867760a52a2f4bcdeb31f309a5bc6280b9f4e0b92a07b57bba090912cb2</th>\n",
              "      <td>0.378940</td>\n",
              "      <td>0.354177</td>\n",
              "      <td>0.639550</td>\n",
              "      <td>0.425159</td>\n",
              "    </tr>\n",
              "  </tbody>\n",
              "</table>\n",
              "</div>\n",
              "    <div class=\"colab-df-buttons\">\n",
              "\n",
              "  <div class=\"colab-df-container\">\n",
              "    <button class=\"colab-df-convert\" onclick=\"convertToInteractive('df-a72c1506-6e31-4c0d-8353-2e0708f8eee9')\"\n",
              "            title=\"Convert this dataframe to an interactive table.\"\n",
              "            style=\"display:none;\">\n",
              "\n",
              "  <svg xmlns=\"http://www.w3.org/2000/svg\" height=\"24px\" viewBox=\"0 -960 960 960\">\n",
              "    <path d=\"M120-120v-720h720v720H120Zm60-500h600v-160H180v160Zm220 220h160v-160H400v160Zm0 220h160v-160H400v160ZM180-400h160v-160H180v160Zm440 0h160v-160H620v160ZM180-180h160v-160H180v160Zm440 0h160v-160H620v160Z\"/>\n",
              "  </svg>\n",
              "    </button>\n",
              "\n",
              "  <style>\n",
              "    .colab-df-container {\n",
              "      display:flex;\n",
              "      gap: 12px;\n",
              "    }\n",
              "\n",
              "    .colab-df-convert {\n",
              "      background-color: #E8F0FE;\n",
              "      border: none;\n",
              "      border-radius: 50%;\n",
              "      cursor: pointer;\n",
              "      display: none;\n",
              "      fill: #1967D2;\n",
              "      height: 32px;\n",
              "      padding: 0 0 0 0;\n",
              "      width: 32px;\n",
              "    }\n",
              "\n",
              "    .colab-df-convert:hover {\n",
              "      background-color: #E2EBFA;\n",
              "      box-shadow: 0px 1px 2px rgba(60, 64, 67, 0.3), 0px 1px 3px 1px rgba(60, 64, 67, 0.15);\n",
              "      fill: #174EA6;\n",
              "    }\n",
              "\n",
              "    .colab-df-buttons div {\n",
              "      margin-bottom: 4px;\n",
              "    }\n",
              "\n",
              "    [theme=dark] .colab-df-convert {\n",
              "      background-color: #3B4455;\n",
              "      fill: #D2E3FC;\n",
              "    }\n",
              "\n",
              "    [theme=dark] .colab-df-convert:hover {\n",
              "      background-color: #434B5C;\n",
              "      box-shadow: 0px 1px 3px 1px rgba(0, 0, 0, 0.15);\n",
              "      filter: drop-shadow(0px 1px 2px rgba(0, 0, 0, 0.3));\n",
              "      fill: #FFFFFF;\n",
              "    }\n",
              "  </style>\n",
              "\n",
              "    <script>\n",
              "      const buttonEl =\n",
              "        document.querySelector('#df-a72c1506-6e31-4c0d-8353-2e0708f8eee9 button.colab-df-convert');\n",
              "      buttonEl.style.display =\n",
              "        google.colab.kernel.accessAllowed ? 'block' : 'none';\n",
              "\n",
              "      async function convertToInteractive(key) {\n",
              "        const element = document.querySelector('#df-a72c1506-6e31-4c0d-8353-2e0708f8eee9');\n",
              "        const dataTable =\n",
              "          await google.colab.kernel.invokeFunction('convertToInteractive',\n",
              "                                                    [key], {});\n",
              "        if (!dataTable) return;\n",
              "\n",
              "        const docLinkHtml = 'Like what you see? Visit the ' +\n",
              "          '<a target=\"_blank\" href=https://colab.research.google.com/notebooks/data_table.ipynb>data table notebook</a>'\n",
              "          + ' to learn more about interactive tables.';\n",
              "        element.innerHTML = '';\n",
              "        dataTable['output_type'] = 'display_data';\n",
              "        await google.colab.output.renderOutput(dataTable, element);\n",
              "        const docLink = document.createElement('div');\n",
              "        docLink.innerHTML = docLinkHtml;\n",
              "        element.appendChild(docLink);\n",
              "      }\n",
              "    </script>\n",
              "  </div>\n",
              "\n",
              "\n",
              "<div id=\"df-31d33ae8-c25d-4184-a368-7df0eedf0681\">\n",
              "  <button class=\"colab-df-quickchart\" onclick=\"quickchart('df-31d33ae8-c25d-4184-a368-7df0eedf0681')\"\n",
              "            title=\"Suggest charts\"\n",
              "            style=\"display:none;\">\n",
              "\n",
              "<svg xmlns=\"http://www.w3.org/2000/svg\" height=\"24px\"viewBox=\"0 0 24 24\"\n",
              "     width=\"24px\">\n",
              "    <g>\n",
              "        <path d=\"M19 3H5c-1.1 0-2 .9-2 2v14c0 1.1.9 2 2 2h14c1.1 0 2-.9 2-2V5c0-1.1-.9-2-2-2zM9 17H7v-7h2v7zm4 0h-2V7h2v10zm4 0h-2v-4h2v4z\"/>\n",
              "    </g>\n",
              "</svg>\n",
              "  </button>\n",
              "\n",
              "<style>\n",
              "  .colab-df-quickchart {\n",
              "      --bg-color: #E8F0FE;\n",
              "      --fill-color: #1967D2;\n",
              "      --hover-bg-color: #E2EBFA;\n",
              "      --hover-fill-color: #174EA6;\n",
              "      --disabled-fill-color: #AAA;\n",
              "      --disabled-bg-color: #DDD;\n",
              "  }\n",
              "\n",
              "  [theme=dark] .colab-df-quickchart {\n",
              "      --bg-color: #3B4455;\n",
              "      --fill-color: #D2E3FC;\n",
              "      --hover-bg-color: #434B5C;\n",
              "      --hover-fill-color: #FFFFFF;\n",
              "      --disabled-bg-color: #3B4455;\n",
              "      --disabled-fill-color: #666;\n",
              "  }\n",
              "\n",
              "  .colab-df-quickchart {\n",
              "    background-color: var(--bg-color);\n",
              "    border: none;\n",
              "    border-radius: 50%;\n",
              "    cursor: pointer;\n",
              "    display: none;\n",
              "    fill: var(--fill-color);\n",
              "    height: 32px;\n",
              "    padding: 0;\n",
              "    width: 32px;\n",
              "  }\n",
              "\n",
              "  .colab-df-quickchart:hover {\n",
              "    background-color: var(--hover-bg-color);\n",
              "    box-shadow: 0 1px 2px rgba(60, 64, 67, 0.3), 0 1px 3px 1px rgba(60, 64, 67, 0.15);\n",
              "    fill: var(--button-hover-fill-color);\n",
              "  }\n",
              "\n",
              "  .colab-df-quickchart-complete:disabled,\n",
              "  .colab-df-quickchart-complete:disabled:hover {\n",
              "    background-color: var(--disabled-bg-color);\n",
              "    fill: var(--disabled-fill-color);\n",
              "    box-shadow: none;\n",
              "  }\n",
              "\n",
              "  .colab-df-spinner {\n",
              "    border: 2px solid var(--fill-color);\n",
              "    border-color: transparent;\n",
              "    border-bottom-color: var(--fill-color);\n",
              "    animation:\n",
              "      spin 1s steps(1) infinite;\n",
              "  }\n",
              "\n",
              "  @keyframes spin {\n",
              "    0% {\n",
              "      border-color: transparent;\n",
              "      border-bottom-color: var(--fill-color);\n",
              "      border-left-color: var(--fill-color);\n",
              "    }\n",
              "    20% {\n",
              "      border-color: transparent;\n",
              "      border-left-color: var(--fill-color);\n",
              "      border-top-color: var(--fill-color);\n",
              "    }\n",
              "    30% {\n",
              "      border-color: transparent;\n",
              "      border-left-color: var(--fill-color);\n",
              "      border-top-color: var(--fill-color);\n",
              "      border-right-color: var(--fill-color);\n",
              "    }\n",
              "    40% {\n",
              "      border-color: transparent;\n",
              "      border-right-color: var(--fill-color);\n",
              "      border-top-color: var(--fill-color);\n",
              "    }\n",
              "    60% {\n",
              "      border-color: transparent;\n",
              "      border-right-color: var(--fill-color);\n",
              "    }\n",
              "    80% {\n",
              "      border-color: transparent;\n",
              "      border-right-color: var(--fill-color);\n",
              "      border-bottom-color: var(--fill-color);\n",
              "    }\n",
              "    90% {\n",
              "      border-color: transparent;\n",
              "      border-bottom-color: var(--fill-color);\n",
              "    }\n",
              "  }\n",
              "</style>\n",
              "\n",
              "  <script>\n",
              "    async function quickchart(key) {\n",
              "      const quickchartButtonEl =\n",
              "        document.querySelector('#' + key + ' button');\n",
              "      quickchartButtonEl.disabled = true;  // To prevent multiple clicks.\n",
              "      quickchartButtonEl.classList.add('colab-df-spinner');\n",
              "      try {\n",
              "        const charts = await google.colab.kernel.invokeFunction(\n",
              "            'suggestCharts', [key], {});\n",
              "      } catch (error) {\n",
              "        console.error('Error during call to suggestCharts:', error);\n",
              "      }\n",
              "      quickchartButtonEl.classList.remove('colab-df-spinner');\n",
              "      quickchartButtonEl.classList.add('colab-df-quickchart-complete');\n",
              "    }\n",
              "    (() => {\n",
              "      let quickchartButtonEl =\n",
              "        document.querySelector('#df-31d33ae8-c25d-4184-a368-7df0eedf0681 button');\n",
              "      quickchartButtonEl.style.display =\n",
              "        google.colab.kernel.accessAllowed ? 'block' : 'none';\n",
              "    })();\n",
              "  </script>\n",
              "</div>\n",
              "    </div>\n",
              "  </div>\n"
            ],
            "text/plain": [
              "                                                    target_1  target_2  \\\n",
              "client_id                                                                \n",
              "00011c01bb22d8f62d9655f32d123dcca5ae55179f8266b...  1.296766  0.482974   \n",
              "0001ac6446bf223a094d6514a6c890d82e9aa92104dee0a...  2.337731  2.897624   \n",
              "0001b878e81279fa43c4429616359b5b276eecc69ddc315...  0.560491  0.934799   \n",
              "00037813e71deead5685649d494c9a412391942fe771e26...  1.309214  1.143618   \n",
              "00037867760a52a2f4bcdeb31f309a5bc6280b9f4e0b92a...  0.378940  0.354177   \n",
              "\n",
              "                                                    target_3  target_4  \n",
              "client_id                                                               \n",
              "00011c01bb22d8f62d9655f32d123dcca5ae55179f8266b...  1.411441  2.465642  \n",
              "0001ac6446bf223a094d6514a6c890d82e9aa92104dee0a...  3.357715  2.447702  \n",
              "0001b878e81279fa43c4429616359b5b276eecc69ddc315...  0.371818  0.399160  \n",
              "00037813e71deead5685649d494c9a412391942fe771e26...  0.924956  2.051678  \n",
              "00037867760a52a2f4bcdeb31f309a5bc6280b9f4e0b92a...  0.639550  0.425159  "
            ]
          },
          "execution_count": 26,
          "metadata": {},
          "output_type": "execute_result"
        }
      ],
      "source": [
        "scores_full.head()"
      ]
    }
  ],
  "metadata": {
    "colab": {
      "collapsed_sections": [
        "xUPw3WknnSOC",
        "TLY_Q6XbR0Ve",
        "c-dEsi9YR7P4",
        "BfGs_5tc43Tf",
        "jSmOtIxTX9du"
      ],
      "provenance": []
    },
    "kernelspec": {
      "display_name": "Python 3",
      "name": "python3"
    },
    "language_info": {
      "name": "python"
    }
  },
  "nbformat": 4,
  "nbformat_minor": 0
}
